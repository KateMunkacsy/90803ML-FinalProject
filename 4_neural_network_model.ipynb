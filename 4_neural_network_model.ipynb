{
 "cells": [
  {
   "cell_type": "markdown",
   "id": "77607305-c420-4443-9561-0454d04c0b8e",
   "metadata": {},
   "source": [
    "## Step 4: Develop a neural network model\n",
    "\n",
    "**Project**: Predicting Bus Ridership \\\n",
    "**Team**: T20 - Eurus Li, Garrett Kent, Kate Munkacsy"
   ]
  },
  {
   "cell_type": "markdown",
   "id": "501610a9-2a1f-4b57-a3ef-b0011b1527e9",
   "metadata": {},
   "source": [
    "### A. Initial setup"
   ]
  },
  {
   "cell_type": "code",
   "execution_count": 33,
   "id": "1b574857-5ada-4fc1-859a-0d389519ea84",
   "metadata": {},
   "outputs": [],
   "source": [
    "## UPDATE BEFORE RUNNING CODE\n",
    "dir = \"path/to/repo/\""
   ]
  },
  {
   "cell_type": "code",
   "execution_count": 34,
   "id": "7b8d18d7-076a-4f5d-a096-780576045a06",
   "metadata": {},
   "outputs": [],
   "source": [
    "import pandas as pd\n",
    "import numpy as np\n",
    "import matplotlib.pyplot as plt\n",
    "\n",
    "import copy\n",
    "import torch\n",
    "import torch.nn as nn\n",
    "\n",
    "from sklearn.base import BaseEstimator, RegressorMixin\n",
    "from sklearn.pipeline import Pipeline, make_pipeline\n",
    "from sklearn.preprocessing import StandardScaler, OneHotEncoder, FunctionTransformer\n",
    "from sklearn.impute import SimpleImputer\n",
    "from sklearn.compose import ColumnTransformer\n",
    "from sklearn.metrics import mean_squared_error\n",
    "from sklearn.model_selection import cross_val_score\n",
    "\n",
    "## package to help with group-based time series test-train splits\n",
    "## source: https://rasbt.github.io/mlxtend/user_guide/evaluate/GroupTimeSeriesSplit/\n",
    "from mlxtend.evaluate.time_series import GroupTimeSeriesSplit, plot_splits"
   ]
  },
  {
   "cell_type": "markdown",
   "id": "1766f24d-b258-4f13-b708-214c279d63af",
   "metadata": {},
   "source": [
    "### B. Import feature data"
   ]
  },
  {
   "cell_type": "code",
   "execution_count": 36,
   "id": "f8c99fc6-3091-4130-9e51-fa23e61aa2da",
   "metadata": {},
   "outputs": [
    {
     "data": {
      "text/html": [
       "<div>\n",
       "<style scoped>\n",
       "    .dataframe tbody tr th:only-of-type {\n",
       "        vertical-align: middle;\n",
       "    }\n",
       "\n",
       "    .dataframe tbody tr th {\n",
       "        vertical-align: top;\n",
       "    }\n",
       "\n",
       "    .dataframe thead th {\n",
       "        text-align: right;\n",
       "    }\n",
       "</style>\n",
       "<table border=\"1\" class=\"dataframe\">\n",
       "  <thead>\n",
       "    <tr style=\"text-align: right;\">\n",
       "      <th></th>\n",
       "      <th>route</th>\n",
       "      <th>current_garage</th>\n",
       "      <th>day_type</th>\n",
       "      <th>lagged_total_precip</th>\n",
       "      <th>lagged_avg_temp</th>\n",
       "      <th>year</th>\n",
       "      <th>month</th>\n",
       "      <th>lagged_avg_riders</th>\n",
       "      <th>season</th>\n",
       "      <th>num_unique_stops</th>\n",
       "      <th>num_unique_stops_with_shelter</th>\n",
       "      <th>covid</th>\n",
       "      <th>avg_riders</th>\n",
       "    </tr>\n",
       "  </thead>\n",
       "  <tbody>\n",
       "    <tr>\n",
       "      <th>0</th>\n",
       "      <td>1</td>\n",
       "      <td>Ross</td>\n",
       "      <td>SAT.</td>\n",
       "      <td>3.43</td>\n",
       "      <td>33.6</td>\n",
       "      <td>2017</td>\n",
       "      <td>1</td>\n",
       "      <td>NaN</td>\n",
       "      <td>Winter</td>\n",
       "      <td>224.0</td>\n",
       "      <td>17.0</td>\n",
       "      <td>0</td>\n",
       "      <td>969.50</td>\n",
       "    </tr>\n",
       "    <tr>\n",
       "      <th>1</th>\n",
       "      <td>1</td>\n",
       "      <td>Ross</td>\n",
       "      <td>SAT.</td>\n",
       "      <td>3.54</td>\n",
       "      <td>34.6</td>\n",
       "      <td>2017</td>\n",
       "      <td>2</td>\n",
       "      <td>969.50</td>\n",
       "      <td>Winter</td>\n",
       "      <td>224.0</td>\n",
       "      <td>17.0</td>\n",
       "      <td>0</td>\n",
       "      <td>1238.75</td>\n",
       "    </tr>\n",
       "    <tr>\n",
       "      <th>2</th>\n",
       "      <td>1</td>\n",
       "      <td>Ross</td>\n",
       "      <td>SAT.</td>\n",
       "      <td>1.46</td>\n",
       "      <td>40.6</td>\n",
       "      <td>2017</td>\n",
       "      <td>3</td>\n",
       "      <td>1238.75</td>\n",
       "      <td>Spring</td>\n",
       "      <td>224.0</td>\n",
       "      <td>17.0</td>\n",
       "      <td>0</td>\n",
       "      <td>1178.25</td>\n",
       "    </tr>\n",
       "    <tr>\n",
       "      <th>3</th>\n",
       "      <td>1</td>\n",
       "      <td>Ross</td>\n",
       "      <td>SAT.</td>\n",
       "      <td>5.02</td>\n",
       "      <td>39.9</td>\n",
       "      <td>2017</td>\n",
       "      <td>4</td>\n",
       "      <td>1178.25</td>\n",
       "      <td>Spring</td>\n",
       "      <td>224.0</td>\n",
       "      <td>17.0</td>\n",
       "      <td>0</td>\n",
       "      <td>1285.20</td>\n",
       "    </tr>\n",
       "    <tr>\n",
       "      <th>4</th>\n",
       "      <td>1</td>\n",
       "      <td>Ross</td>\n",
       "      <td>SAT.</td>\n",
       "      <td>3.54</td>\n",
       "      <td>57.3</td>\n",
       "      <td>2017</td>\n",
       "      <td>5</td>\n",
       "      <td>1285.20</td>\n",
       "      <td>Spring</td>\n",
       "      <td>224.0</td>\n",
       "      <td>17.0</td>\n",
       "      <td>0</td>\n",
       "      <td>1235.50</td>\n",
       "    </tr>\n",
       "  </tbody>\n",
       "</table>\n",
       "</div>"
      ],
      "text/plain": [
       "  route current_garage day_type  lagged_total_precip  lagged_avg_temp  year  \\\n",
       "0     1           Ross     SAT.                 3.43             33.6  2017   \n",
       "1     1           Ross     SAT.                 3.54             34.6  2017   \n",
       "2     1           Ross     SAT.                 1.46             40.6  2017   \n",
       "3     1           Ross     SAT.                 5.02             39.9  2017   \n",
       "4     1           Ross     SAT.                 3.54             57.3  2017   \n",
       "\n",
       "   month  lagged_avg_riders  season  num_unique_stops  \\\n",
       "0      1                NaN  Winter             224.0   \n",
       "1      2             969.50  Winter             224.0   \n",
       "2      3            1238.75  Spring             224.0   \n",
       "3      4            1178.25  Spring             224.0   \n",
       "4      5            1285.20  Spring             224.0   \n",
       "\n",
       "   num_unique_stops_with_shelter  covid  avg_riders  \n",
       "0                           17.0      0      969.50  \n",
       "1                           17.0      0     1238.75  \n",
       "2                           17.0      0     1178.25  \n",
       "3                           17.0      0     1285.20  \n",
       "4                           17.0      0     1235.50  "
      ]
     },
     "execution_count": 36,
     "metadata": {},
     "output_type": "execute_result"
    }
   ],
   "source": [
    "data = pd.read_csv(dir + \"/Data/feature_matrix.csv\")\n",
    "data.head()"
   ]
  },
  {
   "cell_type": "markdown",
   "id": "10495bbb-5f73-4735-937d-a9307313b2ce",
   "metadata": {},
   "source": [
    "### C. Prepare date chunking for train-test splits"
   ]
  },
  {
   "cell_type": "code",
   "execution_count": 38,
   "id": "5c2dccc6-04ed-46ec-8af8-1ca05b44c86a",
   "metadata": {},
   "outputs": [
    {
     "data": {
      "text/html": [
       "<div>\n",
       "<style scoped>\n",
       "    .dataframe tbody tr th:only-of-type {\n",
       "        vertical-align: middle;\n",
       "    }\n",
       "\n",
       "    .dataframe tbody tr th {\n",
       "        vertical-align: top;\n",
       "    }\n",
       "\n",
       "    .dataframe thead th {\n",
       "        text-align: right;\n",
       "    }\n",
       "</style>\n",
       "<table border=\"1\" class=\"dataframe\">\n",
       "  <thead>\n",
       "    <tr style=\"text-align: right;\">\n",
       "      <th></th>\n",
       "      <th>route</th>\n",
       "      <th>current_garage</th>\n",
       "      <th>day_type</th>\n",
       "      <th>lagged_total_precip</th>\n",
       "      <th>lagged_avg_temp</th>\n",
       "      <th>year</th>\n",
       "      <th>month</th>\n",
       "      <th>lagged_avg_riders</th>\n",
       "      <th>season</th>\n",
       "      <th>num_unique_stops</th>\n",
       "      <th>num_unique_stops_with_shelter</th>\n",
       "      <th>covid</th>\n",
       "      <th>avg_riders</th>\n",
       "    </tr>\n",
       "    <tr>\n",
       "      <th>date</th>\n",
       "      <th></th>\n",
       "      <th></th>\n",
       "      <th></th>\n",
       "      <th></th>\n",
       "      <th></th>\n",
       "      <th></th>\n",
       "      <th></th>\n",
       "      <th></th>\n",
       "      <th></th>\n",
       "      <th></th>\n",
       "      <th></th>\n",
       "      <th></th>\n",
       "      <th></th>\n",
       "    </tr>\n",
       "  </thead>\n",
       "  <tbody>\n",
       "    <tr>\n",
       "      <th>2017-01</th>\n",
       "      <td>1</td>\n",
       "      <td>Ross</td>\n",
       "      <td>SAT.</td>\n",
       "      <td>3.43</td>\n",
       "      <td>33.6</td>\n",
       "      <td>2017</td>\n",
       "      <td>1</td>\n",
       "      <td>NaN</td>\n",
       "      <td>Winter</td>\n",
       "      <td>224.0</td>\n",
       "      <td>17.0</td>\n",
       "      <td>0</td>\n",
       "      <td>969.500000</td>\n",
       "    </tr>\n",
       "    <tr>\n",
       "      <th>2017-01</th>\n",
       "      <td>74</td>\n",
       "      <td>East Liberty</td>\n",
       "      <td>SAT.</td>\n",
       "      <td>3.43</td>\n",
       "      <td>33.6</td>\n",
       "      <td>2017</td>\n",
       "      <td>1</td>\n",
       "      <td>NaN</td>\n",
       "      <td>Winter</td>\n",
       "      <td>177.0</td>\n",
       "      <td>6.0</td>\n",
       "      <td>0</td>\n",
       "      <td>392.000000</td>\n",
       "    </tr>\n",
       "    <tr>\n",
       "      <th>2017-01</th>\n",
       "      <td>74</td>\n",
       "      <td>East Liberty</td>\n",
       "      <td>WEEKDAY</td>\n",
       "      <td>3.43</td>\n",
       "      <td>33.6</td>\n",
       "      <td>2017</td>\n",
       "      <td>1</td>\n",
       "      <td>NaN</td>\n",
       "      <td>Winter</td>\n",
       "      <td>177.0</td>\n",
       "      <td>6.0</td>\n",
       "      <td>0</td>\n",
       "      <td>874.590909</td>\n",
       "    </tr>\n",
       "    <tr>\n",
       "      <th>2017-01</th>\n",
       "      <td>75</td>\n",
       "      <td>East Liberty</td>\n",
       "      <td>SAT.</td>\n",
       "      <td>3.43</td>\n",
       "      <td>33.6</td>\n",
       "      <td>2017</td>\n",
       "      <td>1</td>\n",
       "      <td>NaN</td>\n",
       "      <td>Winter</td>\n",
       "      <td>157.0</td>\n",
       "      <td>13.0</td>\n",
       "      <td>0</td>\n",
       "      <td>1783.500000</td>\n",
       "    </tr>\n",
       "    <tr>\n",
       "      <th>2017-01</th>\n",
       "      <td>75</td>\n",
       "      <td>East Liberty</td>\n",
       "      <td>SUN.</td>\n",
       "      <td>3.43</td>\n",
       "      <td>33.6</td>\n",
       "      <td>2017</td>\n",
       "      <td>1</td>\n",
       "      <td>NaN</td>\n",
       "      <td>Winter</td>\n",
       "      <td>157.0</td>\n",
       "      <td>13.0</td>\n",
       "      <td>0</td>\n",
       "      <td>1111.200000</td>\n",
       "    </tr>\n",
       "  </tbody>\n",
       "</table>\n",
       "</div>"
      ],
      "text/plain": [
       "        route current_garage day_type  lagged_total_precip  lagged_avg_temp  \\\n",
       "date                                                                          \n",
       "2017-01     1           Ross     SAT.                 3.43             33.6   \n",
       "2017-01    74   East Liberty     SAT.                 3.43             33.6   \n",
       "2017-01    74   East Liberty  WEEKDAY                 3.43             33.6   \n",
       "2017-01    75   East Liberty     SAT.                 3.43             33.6   \n",
       "2017-01    75   East Liberty     SUN.                 3.43             33.6   \n",
       "\n",
       "         year  month  lagged_avg_riders  season  num_unique_stops  \\\n",
       "date                                                                \n",
       "2017-01  2017      1                NaN  Winter             224.0   \n",
       "2017-01  2017      1                NaN  Winter             177.0   \n",
       "2017-01  2017      1                NaN  Winter             177.0   \n",
       "2017-01  2017      1                NaN  Winter             157.0   \n",
       "2017-01  2017      1                NaN  Winter             157.0   \n",
       "\n",
       "         num_unique_stops_with_shelter  covid   avg_riders  \n",
       "date                                                        \n",
       "2017-01                           17.0      0   969.500000  \n",
       "2017-01                            6.0      0   392.000000  \n",
       "2017-01                            6.0      0   874.590909  \n",
       "2017-01                           13.0      0  1783.500000  \n",
       "2017-01                           13.0      0  1111.200000  "
      ]
     },
     "execution_count": 38,
     "metadata": {},
     "output_type": "execute_result"
    }
   ],
   "source": [
    "## Create date column for indexing\n",
    "data['date'] = data['year'].astype(str) + '-' + data['month'].astype(str).str.pad(2, 'left', '0')\n",
    "\n",
    "## Sort by date\n",
    "df_sorted = data.sort_values('date')\n",
    "df_sorted = df_sorted.set_index('date')\n",
    "df_sorted.head()"
   ]
  },
  {
   "cell_type": "code",
   "execution_count": 39,
   "id": "ffaf260d-8885-4ea9-8ed9-b9731aa08ca2",
   "metadata": {},
   "outputs": [
    {
     "data": {
      "text/plain": [
       "array(['2017-01', '2017-01', '2017-01', ..., '2024-10', '2024-10',\n",
       "       '2024-10'], dtype=object)"
      ]
     },
     "execution_count": 39,
     "metadata": {},
     "output_type": "execute_result"
    }
   ],
   "source": [
    "## specify chunks for time series splits\n",
    "cv_args = {\"test_size\": 1, \"n_splits\": 10}\n",
    "tscv = GroupTimeSeriesSplit(**cv_args)\n",
    "months = np.sort(df_sorted.index)\n",
    "months"
   ]
  },
  {
   "cell_type": "code",
   "execution_count": 40,
   "id": "f5233671-86f9-4a0f-927a-a46b2e3389ba",
   "metadata": {},
   "outputs": [],
   "source": [
    "unique_months = np.unique(months)\n",
    "month_to_group = {month: idx for idx, month in enumerate(unique_months)}\n",
    "groups = np.array([month_to_group[m] for m in months])"
   ]
  },
  {
   "cell_type": "markdown",
   "id": "9e3319bd-88fa-4fd1-88b9-ce787291262c",
   "metadata": {},
   "source": [
    "### D. Establish feature and outcome dataframes"
   ]
  },
  {
   "cell_type": "code",
   "execution_count": 42,
   "id": "8dacbef2-b172-4246-96ca-a9d470b2a127",
   "metadata": {},
   "outputs": [],
   "source": [
    "## establish feature and target dataframes\n",
    "X = df_sorted.drop(['avg_riders'], axis = 1)\n",
    "y = df_sorted['avg_riders']\n",
    "\n",
    "## drop sparse columns\n",
    "sparse_columns = list(X.columns[X.nunique() / len(X) * 100 < 0.01])\n",
    "X = X.drop(sparse_columns, axis = 1)"
   ]
  },
  {
   "cell_type": "markdown",
   "id": "f13a29cd-edf6-41f7-ba26-34a12b133200",
   "metadata": {},
   "source": [
    "### E. Build Neural Network models"
   ]
  },
  {
   "cell_type": "code",
   "execution_count": 44,
   "id": "713a3c92-1abe-4369-ab61-9e2c26507381",
   "metadata": {},
   "outputs": [],
   "source": [
    "# Define the Neural Net Regressor wrapped as a sklearn estimator\n",
    "class NeuralNetRegressor(BaseEstimator, RegressorMixin):\n",
    "    def __init__(self, hidden_dim=64, epochs=50, batch_size=32, lr=1e-3):\n",
    "        self.hidden_dim = hidden_dim\n",
    "        self.epochs = epochs\n",
    "        self.batch_size = batch_size\n",
    "        self.lr = lr\n",
    "        self.model = None\n",
    "        self.criterion = nn.MSELoss()\n",
    "        self.optimizer = None\n",
    "\n",
    "    def fit(self, X, y):\n",
    "        input_dim = X.shape[1]\n",
    "        self.model = nn.Sequential(\n",
    "            nn.Linear(input_dim, self.hidden_dim),\n",
    "            nn.ReLU(),\n",
    "            nn.Linear(self.hidden_dim, self.hidden_dim),\n",
    "            nn.ReLU(),\n",
    "            nn.Linear(self.hidden_dim, 1)\n",
    "        )\n",
    "        self.optimizer = torch.optim.Adam(self.model.parameters(), lr=self.lr)\n",
    "\n",
    "        X_tensor = torch.tensor(X, dtype=torch.float32)\n",
    "        y_tensor = torch.tensor(y.values.reshape(-1, 1), dtype=torch.float32)\n",
    "        dataset = torch.utils.data.TensorDataset(X_tensor, y_tensor)\n",
    "        loader = torch.utils.data.DataLoader(dataset, batch_size=self.batch_size, shuffle=True)\n",
    "\n",
    "        self.model.train()\n",
    "        for epoch in range(self.epochs):\n",
    "            for xb, yb in loader:\n",
    "                pred = self.model(xb)\n",
    "                loss = self.criterion(pred, yb)\n",
    "                self.optimizer.zero_grad()\n",
    "                loss.backward()\n",
    "                self.optimizer.step()\n",
    "\n",
    "    def predict(self, X):\n",
    "        self.model.eval()\n",
    "        with torch.no_grad():\n",
    "            X_tensor = torch.tensor(X, dtype=torch.float32)\n",
    "            return self.model(X_tensor).squeeze().numpy()"
   ]
  },
  {
   "cell_type": "code",
   "execution_count": 45,
   "id": "98e7c31c-4a01-4dcd-ac8c-8bad3f2aad8a",
   "metadata": {},
   "outputs": [],
   "source": [
    "# Function to build the full pipeline\n",
    "def build_neural_network_model(X):\n",
    "    # Identify feature types\n",
    "    int_cols = X.select_dtypes(include='int').columns.tolist()\n",
    "    float_cols = X.select_dtypes(include='float').columns.tolist()\n",
    "    cat_cols = X.select_dtypes(include='object').columns.tolist()\n",
    "\n",
    "    numeric_preprocessor = Pipeline([\n",
    "        ('imputer', SimpleImputer(strategy='mean')),\n",
    "        ('scaler', StandardScaler())\n",
    "    ])\n",
    "\n",
    "    categorical_preprocessor = Pipeline([\n",
    "        ('imputer', SimpleImputer(strategy='most_frequent')),\n",
    "        ('onehot', OneHotEncoder(handle_unknown='ignore', sparse_output=False))  # force dense\n",
    "    ])\n",
    "\n",
    "    preprocessor = ColumnTransformer([\n",
    "        ('num', numeric_preprocessor, int_cols + float_cols),\n",
    "        ('cat', categorical_preprocessor, cat_cols)\n",
    "    ])\n",
    "\n",
    "    model = Pipeline([\n",
    "        ('preprocessor', copy.deepcopy(preprocessor)),\n",
    "        ('to_float32', FunctionTransformer(lambda X: X.astype(np.float32), validate=False)),\n",
    "        ('regressor', NeuralNetRegressor())\n",
    "    ])\n",
    "\n",
    "    return {\"Neural Network\": model}"
   ]
  },
  {
   "cell_type": "code",
   "execution_count": 46,
   "id": "4d33b0cd-8301-4148-a1f5-fb98d3ee4fc4",
   "metadata": {},
   "outputs": [],
   "source": [
    "neural_net_model = build_neural_network_model(X)\n",
    "\n",
    "model = neural_net_model[\"Neural Network\"]\n",
    "scores = cross_val_score(\n",
    "    model,\n",
    "    X,\n",
    "    y,\n",
    "    cv=tscv,   # GroupTimeSeriesSplit\n",
    "    groups=groups,\n",
    "    scoring='neg_root_mean_squared_error',\n",
    "    n_jobs=-1\n",
    ")\n",
    "rmse_scores = -scores"
   ]
  },
  {
   "cell_type": "code",
   "execution_count": 47,
   "id": "7b505ab0-cb08-43da-aad3-dbdf9d822ede",
   "metadata": {},
   "outputs": [
    {
     "name": "stdout",
     "output_type": "stream",
     "text": [
      "Neural Network       | Mean RMSE:    291.299 | Std: 122.510\n"
     ]
    }
   ],
   "source": [
    "print(f\"{\"Neural Network\":<20} | Mean RMSE: {rmse_scores.mean():>10,.3f} | Std: {rmse_scores.std():.3f}\")"
   ]
  },
  {
   "cell_type": "code",
   "execution_count": 48,
   "id": "63e00c93-4367-495c-b431-5d46be0a7d1a",
   "metadata": {},
   "outputs": [
    {
     "name": "stderr",
     "output_type": "stream",
     "text": [
      "C:\\Users\\Kate Munkacsy\\anaconda3\\Lib\\site-packages\\sklearn\\metrics\\_regression.py:483: FutureWarning: 'squared' is deprecated in version 1.4 and will be removed in 1.6. To calculate the root mean squared error, use the function'root_mean_squared_error'.\n",
      "  warnings.warn(\n"
     ]
    },
    {
     "name": "stdout",
     "output_type": "stream",
     "text": [
      "Fold 1 RMSE: 400.71\n"
     ]
    },
    {
     "name": "stderr",
     "output_type": "stream",
     "text": [
      "C:\\Users\\Kate Munkacsy\\anaconda3\\Lib\\site-packages\\sklearn\\metrics\\_regression.py:483: FutureWarning: 'squared' is deprecated in version 1.4 and will be removed in 1.6. To calculate the root mean squared error, use the function'root_mean_squared_error'.\n",
      "  warnings.warn(\n"
     ]
    },
    {
     "name": "stdout",
     "output_type": "stream",
     "text": [
      "Fold 2 RMSE: 159.84\n"
     ]
    },
    {
     "name": "stderr",
     "output_type": "stream",
     "text": [
      "C:\\Users\\Kate Munkacsy\\anaconda3\\Lib\\site-packages\\sklearn\\metrics\\_regression.py:483: FutureWarning: 'squared' is deprecated in version 1.4 and will be removed in 1.6. To calculate the root mean squared error, use the function'root_mean_squared_error'.\n",
      "  warnings.warn(\n"
     ]
    },
    {
     "name": "stdout",
     "output_type": "stream",
     "text": [
      "Fold 3 RMSE: 141.69\n"
     ]
    },
    {
     "name": "stderr",
     "output_type": "stream",
     "text": [
      "C:\\Users\\Kate Munkacsy\\anaconda3\\Lib\\site-packages\\sklearn\\metrics\\_regression.py:483: FutureWarning: 'squared' is deprecated in version 1.4 and will be removed in 1.6. To calculate the root mean squared error, use the function'root_mean_squared_error'.\n",
      "  warnings.warn(\n"
     ]
    },
    {
     "name": "stdout",
     "output_type": "stream",
     "text": [
      "Fold 4 RMSE: 164.89\n"
     ]
    },
    {
     "name": "stderr",
     "output_type": "stream",
     "text": [
      "C:\\Users\\Kate Munkacsy\\anaconda3\\Lib\\site-packages\\sklearn\\metrics\\_regression.py:483: FutureWarning: 'squared' is deprecated in version 1.4 and will be removed in 1.6. To calculate the root mean squared error, use the function'root_mean_squared_error'.\n",
      "  warnings.warn(\n"
     ]
    },
    {
     "name": "stdout",
     "output_type": "stream",
     "text": [
      "Fold 5 RMSE: 205.86\n"
     ]
    },
    {
     "name": "stderr",
     "output_type": "stream",
     "text": [
      "C:\\Users\\Kate Munkacsy\\anaconda3\\Lib\\site-packages\\sklearn\\metrics\\_regression.py:483: FutureWarning: 'squared' is deprecated in version 1.4 and will be removed in 1.6. To calculate the root mean squared error, use the function'root_mean_squared_error'.\n",
      "  warnings.warn(\n"
     ]
    },
    {
     "name": "stdout",
     "output_type": "stream",
     "text": [
      "Fold 6 RMSE: 298.17\n"
     ]
    },
    {
     "name": "stderr",
     "output_type": "stream",
     "text": [
      "C:\\Users\\Kate Munkacsy\\anaconda3\\Lib\\site-packages\\sklearn\\metrics\\_regression.py:483: FutureWarning: 'squared' is deprecated in version 1.4 and will be removed in 1.6. To calculate the root mean squared error, use the function'root_mean_squared_error'.\n",
      "  warnings.warn(\n"
     ]
    },
    {
     "name": "stdout",
     "output_type": "stream",
     "text": [
      "Fold 7 RMSE: 391.05\n"
     ]
    },
    {
     "name": "stderr",
     "output_type": "stream",
     "text": [
      "C:\\Users\\Kate Munkacsy\\anaconda3\\Lib\\site-packages\\sklearn\\metrics\\_regression.py:483: FutureWarning: 'squared' is deprecated in version 1.4 and will be removed in 1.6. To calculate the root mean squared error, use the function'root_mean_squared_error'.\n",
      "  warnings.warn(\n"
     ]
    },
    {
     "name": "stdout",
     "output_type": "stream",
     "text": [
      "Fold 8 RMSE: 147.83\n"
     ]
    },
    {
     "name": "stderr",
     "output_type": "stream",
     "text": [
      "C:\\Users\\Kate Munkacsy\\anaconda3\\Lib\\site-packages\\sklearn\\metrics\\_regression.py:483: FutureWarning: 'squared' is deprecated in version 1.4 and will be removed in 1.6. To calculate the root mean squared error, use the function'root_mean_squared_error'.\n",
      "  warnings.warn(\n"
     ]
    },
    {
     "name": "stdout",
     "output_type": "stream",
     "text": [
      "Fold 9 RMSE: 575.44\n"
     ]
    },
    {
     "name": "stderr",
     "output_type": "stream",
     "text": [
      "C:\\Users\\Kate Munkacsy\\anaconda3\\Lib\\site-packages\\sklearn\\metrics\\_regression.py:483: FutureWarning: 'squared' is deprecated in version 1.4 and will be removed in 1.6. To calculate the root mean squared error, use the function'root_mean_squared_error'.\n",
      "  warnings.warn(\n"
     ]
    },
    {
     "name": "stdout",
     "output_type": "stream",
     "text": [
      "Fold 10 RMSE: 265.83\n"
     ]
    },
    {
     "data": {
      "image/png": "[encoded data removed]",
      "text/plain": [
       "<Figure size 800x500 with 1 Axes>"
      ]
     },
     "metadata": {},
     "output_type": "display_data"
    }
   ],
   "source": [
    "# Force float32 for torch compatibility\n",
    "float32_transformer = FunctionTransformer(lambda X: X.astype(np.float32), validate=False)\n",
    "\n",
    "# Define the same preprocessor as before\n",
    "numeric_cols = X.select_dtypes(include=['float64', 'int']).columns.tolist()\n",
    "categorical_cols = X.select_dtypes(include='object').columns.tolist()\n",
    "\n",
    "numeric_transformer = Pipeline([\n",
    "    ('imputer', SimpleImputer(strategy='mean')),\n",
    "    ('scaler', StandardScaler())\n",
    "])\n",
    "\n",
    "categorical_transformer = Pipeline([\n",
    "    ('imputer', SimpleImputer(strategy='most_frequent')),\n",
    "    ('onehot', OneHotEncoder(handle_unknown='ignore', sparse_output=False))\n",
    "])\n",
    "\n",
    "preprocessor = ColumnTransformer([\n",
    "    ('num', numeric_transformer, numeric_cols),\n",
    "    ('cat', categorical_transformer, categorical_cols)\n",
    "])\n",
    "\n",
    "# Set up time-based CV and storage\n",
    "tscv = GroupTimeSeriesSplit(n_splits=10, test_size=1)\n",
    "rmse_per_fold = []\n",
    "\n",
    "for i, (train_idx, test_idx) in enumerate(tscv.split(X, y, groups=groups), 1):\n",
    "    X_train, X_test = X.iloc[train_idx], X.iloc[test_idx]\n",
    "    y_train, y_test = y.iloc[train_idx], y.iloc[test_idx]\n",
    "\n",
    "    nn_pipeline = make_pipeline(\n",
    "        preprocessor,\n",
    "        float32_transformer,\n",
    "        NeuralNetRegressor(hidden_dim=64, epochs=50, batch_size=32, lr=1e-3)\n",
    "    )\n",
    "\n",
    "    nn_pipeline.fit(X_train, y_train)\n",
    "    y_pred = nn_pipeline.predict(X_test)\n",
    "    rmse = mean_squared_error(y_test, y_pred, squared=False)\n",
    "    rmse_per_fold.append(rmse)\n",
    "    print(f\"Fold {i} RMSE: {rmse:.2f}\")\n",
    "\n",
    "# Plot RMSE across folds\n",
    "plt.figure(figsize=(8,5))\n",
    "plt.plot(range(1, 11), rmse_per_fold, marker='o', label='Neural Network')\n",
    "plt.xlabel('CV Split Number')\n",
    "plt.ylabel('RMSE')\n",
    "plt.title('Neural Network RMSE Across Time Splits')\n",
    "plt.grid(True)\n",
    "plt.legend()\n",
    "plt.tight_layout()\n",
    "plt.show()"
   ]
  }
 ],
 "metadata": {
  "kernelspec": {
   "display_name": "Python 3 (ipykernel)",
   "language": "python",
   "name": "python3"
  },
  "language_info": {
   "codemirror_mode": {
    "name": "ipython",
    "version": 3
   },
   "file_extension": ".py",
   "mimetype": "text/x-python",
   "name": "python",
   "nbconvert_exporter": "python",
   "pygments_lexer": "ipython3",
   "version": "3.12.3"
  }
 },
 "nbformat": 4,
 "nbformat_minor": 5
}
