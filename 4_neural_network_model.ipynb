{
 "cells": [
  {
   "cell_type": "code",
   "execution_count": 20,
   "id": "7b8d18d7-076a-4f5d-a096-780576045a06",
   "metadata": {},
   "outputs": [],
   "source": [
    "import pandas as pd\n",
    "import numpy as np\n",
    "import copy\n",
    "import torch\n",
    "import torch.nn as nn\n",
    "from sklearn.base import BaseEstimator, RegressorMixin\n",
    "from sklearn.pipeline import Pipeline\n",
    "from sklearn.preprocessing import StandardScaler, OneHotEncoder, FunctionTransformer\n",
    "from sklearn.impute import SimpleImputer\n",
    "from sklearn.compose import ColumnTransformer\n",
    "from mlxtend.evaluate.time_series import GroupTimeSeriesSplit, plot_splits"
   ]
  },
  {
   "cell_type": "code",
   "execution_count": 21,
   "id": "f8c99fc6-3091-4130-9e51-fa23e61aa2da",
   "metadata": {},
   "outputs": [
    {
     "data": {
      "text/html": [
       "<div>\n",
       "<style scoped>\n",
       "    .dataframe tbody tr th:only-of-type {\n",
       "        vertical-align: middle;\n",
       "    }\n",
       "\n",
       "    .dataframe tbody tr th {\n",
       "        vertical-align: top;\n",
       "    }\n",
       "\n",
       "    .dataframe thead th {\n",
       "        text-align: right;\n",
       "    }\n",
       "</style>\n",
       "<table border=\"1\" class=\"dataframe\">\n",
       "  <thead>\n",
       "    <tr style=\"text-align: right;\">\n",
       "      <th></th>\n",
       "      <th>route</th>\n",
       "      <th>current_garage</th>\n",
       "      <th>day_type</th>\n",
       "      <th>lagged_total_precip</th>\n",
       "      <th>lagged_avg_temp</th>\n",
       "      <th>year</th>\n",
       "      <th>month</th>\n",
       "      <th>lagged_avg_riders</th>\n",
       "      <th>season</th>\n",
       "      <th>num_unique_stops</th>\n",
       "      <th>num_unique_stops_with_shelter</th>\n",
       "      <th>covid</th>\n",
       "      <th>avg_riders</th>\n",
       "      <th>date</th>\n",
       "    </tr>\n",
       "  </thead>\n",
       "  <tbody>\n",
       "    <tr>\n",
       "      <th>0</th>\n",
       "      <td>1</td>\n",
       "      <td>Ross</td>\n",
       "      <td>SAT.</td>\n",
       "      <td>3.43</td>\n",
       "      <td>33.6</td>\n",
       "      <td>2017</td>\n",
       "      <td>1</td>\n",
       "      <td>NaN</td>\n",
       "      <td>Winter</td>\n",
       "      <td>224.0</td>\n",
       "      <td>17.0</td>\n",
       "      <td>0</td>\n",
       "      <td>969.50</td>\n",
       "      <td>2017-01</td>\n",
       "    </tr>\n",
       "    <tr>\n",
       "      <th>1</th>\n",
       "      <td>1</td>\n",
       "      <td>Ross</td>\n",
       "      <td>SAT.</td>\n",
       "      <td>3.54</td>\n",
       "      <td>34.6</td>\n",
       "      <td>2017</td>\n",
       "      <td>2</td>\n",
       "      <td>969.50</td>\n",
       "      <td>Winter</td>\n",
       "      <td>224.0</td>\n",
       "      <td>17.0</td>\n",
       "      <td>0</td>\n",
       "      <td>1238.75</td>\n",
       "      <td>2017-02</td>\n",
       "    </tr>\n",
       "    <tr>\n",
       "      <th>2</th>\n",
       "      <td>1</td>\n",
       "      <td>Ross</td>\n",
       "      <td>SAT.</td>\n",
       "      <td>1.46</td>\n",
       "      <td>40.6</td>\n",
       "      <td>2017</td>\n",
       "      <td>3</td>\n",
       "      <td>1238.75</td>\n",
       "      <td>Spring</td>\n",
       "      <td>224.0</td>\n",
       "      <td>17.0</td>\n",
       "      <td>0</td>\n",
       "      <td>1178.25</td>\n",
       "      <td>2017-03</td>\n",
       "    </tr>\n",
       "    <tr>\n",
       "      <th>3</th>\n",
       "      <td>1</td>\n",
       "      <td>Ross</td>\n",
       "      <td>SAT.</td>\n",
       "      <td>5.02</td>\n",
       "      <td>39.9</td>\n",
       "      <td>2017</td>\n",
       "      <td>4</td>\n",
       "      <td>1178.25</td>\n",
       "      <td>Spring</td>\n",
       "      <td>224.0</td>\n",
       "      <td>17.0</td>\n",
       "      <td>0</td>\n",
       "      <td>1285.20</td>\n",
       "      <td>2017-04</td>\n",
       "    </tr>\n",
       "    <tr>\n",
       "      <th>4</th>\n",
       "      <td>1</td>\n",
       "      <td>Ross</td>\n",
       "      <td>SAT.</td>\n",
       "      <td>3.54</td>\n",
       "      <td>57.3</td>\n",
       "      <td>2017</td>\n",
       "      <td>5</td>\n",
       "      <td>1285.20</td>\n",
       "      <td>Spring</td>\n",
       "      <td>224.0</td>\n",
       "      <td>17.0</td>\n",
       "      <td>0</td>\n",
       "      <td>1235.50</td>\n",
       "      <td>2017-05</td>\n",
       "    </tr>\n",
       "  </tbody>\n",
       "</table>\n",
       "</div>"
      ],
      "text/plain": [
       "  route current_garage day_type  lagged_total_precip  lagged_avg_temp  year  \\\n",
       "0     1           Ross     SAT.                 3.43             33.6  2017   \n",
       "1     1           Ross     SAT.                 3.54             34.6  2017   \n",
       "2     1           Ross     SAT.                 1.46             40.6  2017   \n",
       "3     1           Ross     SAT.                 5.02             39.9  2017   \n",
       "4     1           Ross     SAT.                 3.54             57.3  2017   \n",
       "\n",
       "   month  lagged_avg_riders  season  num_unique_stops  \\\n",
       "0      1                NaN  Winter             224.0   \n",
       "1      2             969.50  Winter             224.0   \n",
       "2      3            1238.75  Spring             224.0   \n",
       "3      4            1178.25  Spring             224.0   \n",
       "4      5            1285.20  Spring             224.0   \n",
       "\n",
       "   num_unique_stops_with_shelter  covid  avg_riders     date  \n",
       "0                           17.0      0      969.50  2017-01  \n",
       "1                           17.0      0     1238.75  2017-02  \n",
       "2                           17.0      0     1178.25  2017-03  \n",
       "3                           17.0      0     1285.20  2017-04  \n",
       "4                           17.0      0     1235.50  2017-05  "
      ]
     },
     "execution_count": 21,
     "metadata": {},
     "output_type": "execute_result"
    }
   ],
   "source": [
    "data = pd.read_csv(\"Data/feature_matrix.csv\")\n",
    "data['date'] = data['year'].astype(str) + '-' + data['month'].astype(str).str.pad(2, 'left', '0')\n",
    "data.head()"
   ]
  },
  {
   "cell_type": "code",
   "execution_count": 22,
   "id": "5c2dccc6-04ed-46ec-8af8-1ca05b44c86a",
   "metadata": {},
   "outputs": [
    {
     "data": {
      "text/html": [
       "<div>\n",
       "<style scoped>\n",
       "    .dataframe tbody tr th:only-of-type {\n",
       "        vertical-align: middle;\n",
       "    }\n",
       "\n",
       "    .dataframe tbody tr th {\n",
       "        vertical-align: top;\n",
       "    }\n",
       "\n",
       "    .dataframe thead th {\n",
       "        text-align: right;\n",
       "    }\n",
       "</style>\n",
       "<table border=\"1\" class=\"dataframe\">\n",
       "  <thead>\n",
       "    <tr style=\"text-align: right;\">\n",
       "      <th></th>\n",
       "      <th>route</th>\n",
       "      <th>current_garage</th>\n",
       "      <th>day_type</th>\n",
       "      <th>lagged_total_precip</th>\n",
       "      <th>lagged_avg_temp</th>\n",
       "      <th>year</th>\n",
       "      <th>month</th>\n",
       "      <th>lagged_avg_riders</th>\n",
       "      <th>season</th>\n",
       "      <th>num_unique_stops</th>\n",
       "      <th>num_unique_stops_with_shelter</th>\n",
       "      <th>covid</th>\n",
       "      <th>avg_riders</th>\n",
       "    </tr>\n",
       "    <tr>\n",
       "      <th>date</th>\n",
       "      <th></th>\n",
       "      <th></th>\n",
       "      <th></th>\n",
       "      <th></th>\n",
       "      <th></th>\n",
       "      <th></th>\n",
       "      <th></th>\n",
       "      <th></th>\n",
       "      <th></th>\n",
       "      <th></th>\n",
       "      <th></th>\n",
       "      <th></th>\n",
       "      <th></th>\n",
       "    </tr>\n",
       "  </thead>\n",
       "  <tbody>\n",
       "    <tr>\n",
       "      <th>2017-01</th>\n",
       "      <td>1</td>\n",
       "      <td>Ross</td>\n",
       "      <td>SAT.</td>\n",
       "      <td>3.43</td>\n",
       "      <td>33.6</td>\n",
       "      <td>2017</td>\n",
       "      <td>1</td>\n",
       "      <td>NaN</td>\n",
       "      <td>Winter</td>\n",
       "      <td>224.0</td>\n",
       "      <td>17.0</td>\n",
       "      <td>0</td>\n",
       "      <td>969.500000</td>\n",
       "    </tr>\n",
       "    <tr>\n",
       "      <th>2017-01</th>\n",
       "      <td>74</td>\n",
       "      <td>East Liberty</td>\n",
       "      <td>SAT.</td>\n",
       "      <td>3.43</td>\n",
       "      <td>33.6</td>\n",
       "      <td>2017</td>\n",
       "      <td>1</td>\n",
       "      <td>NaN</td>\n",
       "      <td>Winter</td>\n",
       "      <td>177.0</td>\n",
       "      <td>6.0</td>\n",
       "      <td>0</td>\n",
       "      <td>392.000000</td>\n",
       "    </tr>\n",
       "    <tr>\n",
       "      <th>2017-01</th>\n",
       "      <td>74</td>\n",
       "      <td>East Liberty</td>\n",
       "      <td>WEEKDAY</td>\n",
       "      <td>3.43</td>\n",
       "      <td>33.6</td>\n",
       "      <td>2017</td>\n",
       "      <td>1</td>\n",
       "      <td>NaN</td>\n",
       "      <td>Winter</td>\n",
       "      <td>177.0</td>\n",
       "      <td>6.0</td>\n",
       "      <td>0</td>\n",
       "      <td>874.590909</td>\n",
       "    </tr>\n",
       "    <tr>\n",
       "      <th>2017-01</th>\n",
       "      <td>75</td>\n",
       "      <td>East Liberty</td>\n",
       "      <td>SAT.</td>\n",
       "      <td>3.43</td>\n",
       "      <td>33.6</td>\n",
       "      <td>2017</td>\n",
       "      <td>1</td>\n",
       "      <td>NaN</td>\n",
       "      <td>Winter</td>\n",
       "      <td>157.0</td>\n",
       "      <td>13.0</td>\n",
       "      <td>0</td>\n",
       "      <td>1783.500000</td>\n",
       "    </tr>\n",
       "    <tr>\n",
       "      <th>2017-01</th>\n",
       "      <td>75</td>\n",
       "      <td>East Liberty</td>\n",
       "      <td>SUN.</td>\n",
       "      <td>3.43</td>\n",
       "      <td>33.6</td>\n",
       "      <td>2017</td>\n",
       "      <td>1</td>\n",
       "      <td>NaN</td>\n",
       "      <td>Winter</td>\n",
       "      <td>157.0</td>\n",
       "      <td>13.0</td>\n",
       "      <td>0</td>\n",
       "      <td>1111.200000</td>\n",
       "    </tr>\n",
       "  </tbody>\n",
       "</table>\n",
       "</div>"
      ],
      "text/plain": [
       "        route current_garage day_type  lagged_total_precip  lagged_avg_temp  \\\n",
       "date                                                                          \n",
       "2017-01     1           Ross     SAT.                 3.43             33.6   \n",
       "2017-01    74   East Liberty     SAT.                 3.43             33.6   \n",
       "2017-01    74   East Liberty  WEEKDAY                 3.43             33.6   \n",
       "2017-01    75   East Liberty     SAT.                 3.43             33.6   \n",
       "2017-01    75   East Liberty     SUN.                 3.43             33.6   \n",
       "\n",
       "         year  month  lagged_avg_riders  season  num_unique_stops  \\\n",
       "date                                                                \n",
       "2017-01  2017      1                NaN  Winter             224.0   \n",
       "2017-01  2017      1                NaN  Winter             177.0   \n",
       "2017-01  2017      1                NaN  Winter             177.0   \n",
       "2017-01  2017      1                NaN  Winter             157.0   \n",
       "2017-01  2017      1                NaN  Winter             157.0   \n",
       "\n",
       "         num_unique_stops_with_shelter  covid   avg_riders  \n",
       "date                                                        \n",
       "2017-01                           17.0      0   969.500000  \n",
       "2017-01                            6.0      0   392.000000  \n",
       "2017-01                            6.0      0   874.590909  \n",
       "2017-01                           13.0      0  1783.500000  \n",
       "2017-01                           13.0      0  1111.200000  "
      ]
     },
     "execution_count": 22,
     "metadata": {},
     "output_type": "execute_result"
    }
   ],
   "source": [
    "## Sort by date\n",
    "df_sorted = data.sort_values('date')\n",
    "df_sorted = df_sorted.set_index('date')\n",
    "df_sorted.head()"
   ]
  },
  {
   "cell_type": "code",
   "execution_count": 23,
   "id": "ffaf260d-8885-4ea9-8ed9-b9731aa08ca2",
   "metadata": {},
   "outputs": [
    {
     "data": {
      "text/plain": [
       "array(['2017-01', '2017-01', '2017-01', ..., '2024-10', '2024-10',\n",
       "       '2024-10'], dtype=object)"
      ]
     },
     "execution_count": 23,
     "metadata": {},
     "output_type": "execute_result"
    }
   ],
   "source": [
    "## specify chunks for time series splits\n",
    "cv_args = {\"test_size\": 1, \"n_splits\": 10}\n",
    "tscv = GroupTimeSeriesSplit(**cv_args)\n",
    "months = np.sort(df_sorted.index)\n",
    "months"
   ]
  },
  {
   "cell_type": "code",
   "execution_count": 28,
   "id": "f5233671-86f9-4a0f-927a-a46b2e3389ba",
   "metadata": {},
   "outputs": [],
   "source": [
    "unique_months = np.unique(months)\n",
    "month_to_group = {month: idx for idx, month in enumerate(unique_months)}\n",
    "groups = np.array([month_to_group[m] for m in months])"
   ]
  },
  {
   "cell_type": "code",
   "execution_count": 29,
   "id": "8dacbef2-b172-4246-96ca-a9d470b2a127",
   "metadata": {},
   "outputs": [],
   "source": [
    "## establish feature and target dataframes\n",
    "X = df_sorted.drop(['avg_riders'], axis = 1)\n",
    "y = df_sorted['avg_riders']\n",
    "\n",
    "## drop sparse columns\n",
    "sparse_columns = list(X.columns[X.nunique() / len(X) * 100 < 0.01])\n",
    "X = X.drop(sparse_columns, axis = 1)"
   ]
  },
  {
   "cell_type": "code",
   "execution_count": null,
   "id": "8a71a9d2-9a5f-4260-a452-523e611b552d",
   "metadata": {},
   "outputs": [],
   "source": []
  },
  {
   "cell_type": "code",
   "execution_count": 30,
   "id": "713a3c92-1abe-4369-ab61-9e2c26507381",
   "metadata": {},
   "outputs": [],
   "source": [
    "# Define the Neural Net Regressor wrapped as a sklearn estimator\n",
    "class NeuralNetRegressor(BaseEstimator, RegressorMixin):\n",
    "    def __init__(self, hidden_dim=64, epochs=50, batch_size=32, lr=1e-3):\n",
    "        self.hidden_dim = hidden_dim\n",
    "        self.epochs = epochs\n",
    "        self.batch_size = batch_size\n",
    "        self.lr = lr\n",
    "        self.model = None\n",
    "        self.criterion = nn.MSELoss()\n",
    "        self.optimizer = None\n",
    "\n",
    "    def fit(self, X, y):\n",
    "        input_dim = X.shape[1]\n",
    "        self.model = nn.Sequential(\n",
    "            nn.Linear(input_dim, self.hidden_dim),\n",
    "            nn.ReLU(),\n",
    "            nn.Linear(self.hidden_dim, self.hidden_dim),\n",
    "            nn.ReLU(),\n",
    "            nn.Linear(self.hidden_dim, 1)\n",
    "        )\n",
    "        self.optimizer = torch.optim.Adam(self.model.parameters(), lr=self.lr)\n",
    "\n",
    "        X_tensor = torch.tensor(X, dtype=torch.float32)\n",
    "        y_tensor = torch.tensor(y.values.reshape(-1, 1), dtype=torch.float32)\n",
    "        dataset = torch.utils.data.TensorDataset(X_tensor, y_tensor)\n",
    "        loader = torch.utils.data.DataLoader(dataset, batch_size=self.batch_size, shuffle=True)\n",
    "\n",
    "        self.model.train()\n",
    "        for epoch in range(self.epochs):\n",
    "            for xb, yb in loader:\n",
    "                pred = self.model(xb)\n",
    "                loss = self.criterion(pred, yb)\n",
    "                self.optimizer.zero_grad()\n",
    "                loss.backward()\n",
    "                self.optimizer.step()\n",
    "\n",
    "    def predict(self, X):\n",
    "        self.model.eval()\n",
    "        with torch.no_grad():\n",
    "            X_tensor = torch.tensor(X, dtype=torch.float32)\n",
    "            return self.model(X_tensor).squeeze().numpy()"
   ]
  },
  {
   "cell_type": "code",
   "execution_count": 31,
   "id": "98e7c31c-4a01-4dcd-ac8c-8bad3f2aad8a",
   "metadata": {},
   "outputs": [],
   "source": [
    "# Function to build the full pipeline\n",
    "def build_neural_network_model(X):\n",
    "    # Identify feature types\n",
    "    int_cols = X.select_dtypes(include='int').columns.tolist()\n",
    "    float_cols = X.select_dtypes(include='float').columns.tolist()\n",
    "    cat_cols = X.select_dtypes(include='object').columns.tolist()\n",
    "\n",
    "    numeric_preprocessor = Pipeline([\n",
    "        ('imputer', SimpleImputer(strategy='mean')),\n",
    "        ('scaler', StandardScaler())\n",
    "    ])\n",
    "\n",
    "    categorical_preprocessor = Pipeline([\n",
    "        ('imputer', SimpleImputer(strategy='most_frequent')),\n",
    "        ('onehot', OneHotEncoder(handle_unknown='ignore', sparse_output=False))  # force dense\n",
    "    ])\n",
    "\n",
    "    preprocessor = ColumnTransformer([\n",
    "        ('num', numeric_preprocessor, int_cols + float_cols),\n",
    "        ('cat', categorical_preprocessor, cat_cols)\n",
    "    ])\n",
    "\n",
    "    model = Pipeline([\n",
    "        ('preprocessor', copy.deepcopy(preprocessor)),\n",
    "        ('to_float32', FunctionTransformer(lambda X: X.astype(np.float32), validate=False)),\n",
    "        ('regressor', NeuralNetRegressor())\n",
    "    ])\n",
    "\n",
    "    return {\"Neural Network\": model}"
   ]
  },
  {
   "cell_type": "code",
   "execution_count": 32,
   "id": "4d33b0cd-8301-4148-a1f5-fb98d3ee4fc4",
   "metadata": {},
   "outputs": [
    {
     "name": "stdout",
     "output_type": "stream",
     "text": [
      "Neural Network RMSE mean: 286.7828523744138\n"
     ]
    }
   ],
   "source": [
    "neural_net_model = build_neural_network_model(X)\n",
    "\n",
    "model = neural_net_model[\"Neural Network\"]\n",
    "\n",
    "from sklearn.model_selection import cross_val_score\n",
    "scores = cross_val_score(\n",
    "    model,\n",
    "    X,\n",
    "    y,\n",
    "    cv=tscv,   # your GroupTimeSeriesSplit\n",
    "    groups=groups,\n",
    "    scoring='neg_root_mean_squared_error',\n",
    "    n_jobs=-1\n",
    ")\n",
    "rmse_scores = -scores"
   ]
  },
  {
   "cell_type": "code",
   "execution_count": 36,
   "id": "7b505ab0-cb08-43da-aad3-dbdf9d822ede",
   "metadata": {},
   "outputs": [
    {
     "name": "stdout",
     "output_type": "stream",
     "text": [
      "Neural Network       | Mean RMSE:    286.783 | Std: 129.152\n"
     ]
    }
   ],
   "source": [
    "print(f\"{\"Neural Network\":<20} | Mean RMSE: {rmse_scores.mean():>10,.3f} | Std: {rmse_scores.std():.3f}\")"
   ]
  },
  {
   "cell_type": "code",
   "execution_count": 37,
   "id": "63e00c93-4367-495c-b431-5d46be0a7d1a",
   "metadata": {},
   "outputs": [
    {
     "name": "stderr",
     "output_type": "stream",
     "text": [
      "C:\\Users\\lizie\\anaconda3\\Lib\\site-packages\\sklearn\\metrics\\_regression.py:492: FutureWarning: 'squared' is deprecated in version 1.4 and will be removed in 1.6. To calculate the root mean squared error, use the function'root_mean_squared_error'.\n",
      "  warnings.warn(\n"
     ]
    },
    {
     "name": "stdout",
     "output_type": "stream",
     "text": [
      "Fold 1 RMSE: 310.97\n"
     ]
    },
    {
     "name": "stderr",
     "output_type": "stream",
     "text": [
      "C:\\Users\\lizie\\anaconda3\\Lib\\site-packages\\sklearn\\metrics\\_regression.py:492: FutureWarning: 'squared' is deprecated in version 1.4 and will be removed in 1.6. To calculate the root mean squared error, use the function'root_mean_squared_error'.\n",
      "  warnings.warn(\n"
     ]
    },
    {
     "name": "stdout",
     "output_type": "stream",
     "text": [
      "Fold 2 RMSE: 163.42\n"
     ]
    },
    {
     "name": "stderr",
     "output_type": "stream",
     "text": [
      "C:\\Users\\lizie\\anaconda3\\Lib\\site-packages\\sklearn\\metrics\\_regression.py:492: FutureWarning: 'squared' is deprecated in version 1.4 and will be removed in 1.6. To calculate the root mean squared error, use the function'root_mean_squared_error'.\n",
      "  warnings.warn(\n"
     ]
    },
    {
     "name": "stdout",
     "output_type": "stream",
     "text": [
      "Fold 3 RMSE: 193.82\n"
     ]
    },
    {
     "name": "stderr",
     "output_type": "stream",
     "text": [
      "C:\\Users\\lizie\\anaconda3\\Lib\\site-packages\\sklearn\\metrics\\_regression.py:492: FutureWarning: 'squared' is deprecated in version 1.4 and will be removed in 1.6. To calculate the root mean squared error, use the function'root_mean_squared_error'.\n",
      "  warnings.warn(\n"
     ]
    },
    {
     "name": "stdout",
     "output_type": "stream",
     "text": [
      "Fold 4 RMSE: 183.62\n"
     ]
    },
    {
     "name": "stderr",
     "output_type": "stream",
     "text": [
      "C:\\Users\\lizie\\anaconda3\\Lib\\site-packages\\sklearn\\metrics\\_regression.py:492: FutureWarning: 'squared' is deprecated in version 1.4 and will be removed in 1.6. To calculate the root mean squared error, use the function'root_mean_squared_error'.\n",
      "  warnings.warn(\n"
     ]
    },
    {
     "name": "stdout",
     "output_type": "stream",
     "text": [
      "Fold 5 RMSE: 306.16\n"
     ]
    },
    {
     "name": "stderr",
     "output_type": "stream",
     "text": [
      "C:\\Users\\lizie\\anaconda3\\Lib\\site-packages\\sklearn\\metrics\\_regression.py:492: FutureWarning: 'squared' is deprecated in version 1.4 and will be removed in 1.6. To calculate the root mean squared error, use the function'root_mean_squared_error'.\n",
      "  warnings.warn(\n"
     ]
    },
    {
     "name": "stdout",
     "output_type": "stream",
     "text": [
      "Fold 6 RMSE: 332.71\n"
     ]
    },
    {
     "name": "stderr",
     "output_type": "stream",
     "text": [
      "C:\\Users\\lizie\\anaconda3\\Lib\\site-packages\\sklearn\\metrics\\_regression.py:492: FutureWarning: 'squared' is deprecated in version 1.4 and will be removed in 1.6. To calculate the root mean squared error, use the function'root_mean_squared_error'.\n",
      "  warnings.warn(\n"
     ]
    },
    {
     "name": "stdout",
     "output_type": "stream",
     "text": [
      "Fold 7 RMSE: 389.59\n"
     ]
    },
    {
     "name": "stderr",
     "output_type": "stream",
     "text": [
      "C:\\Users\\lizie\\anaconda3\\Lib\\site-packages\\sklearn\\metrics\\_regression.py:492: FutureWarning: 'squared' is deprecated in version 1.4 and will be removed in 1.6. To calculate the root mean squared error, use the function'root_mean_squared_error'.\n",
      "  warnings.warn(\n"
     ]
    },
    {
     "name": "stdout",
     "output_type": "stream",
     "text": [
      "Fold 8 RMSE: 147.98\n"
     ]
    },
    {
     "name": "stderr",
     "output_type": "stream",
     "text": [
      "C:\\Users\\lizie\\anaconda3\\Lib\\site-packages\\sklearn\\metrics\\_regression.py:492: FutureWarning: 'squared' is deprecated in version 1.4 and will be removed in 1.6. To calculate the root mean squared error, use the function'root_mean_squared_error'.\n",
      "  warnings.warn(\n"
     ]
    },
    {
     "name": "stdout",
     "output_type": "stream",
     "text": [
      "Fold 9 RMSE: 591.22\n",
      "Fold 10 RMSE: 313.11\n"
     ]
    },
    {
     "name": "stderr",
     "output_type": "stream",
     "text": [
      "C:\\Users\\lizie\\anaconda3\\Lib\\site-packages\\sklearn\\metrics\\_regression.py:492: FutureWarning: 'squared' is deprecated in version 1.4 and will be removed in 1.6. To calculate the root mean squared error, use the function'root_mean_squared_error'.\n",
      "  warnings.warn(\n"
     ]
    },
    {
     "data": {
      "image/png": "[encoded data removed]",
      "text/plain": [
       "<Figure size 800x500 with 1 Axes>"
      ]
     },
     "metadata": {},
     "output_type": "display_data"
    }
   ],
   "source": [
    "from sklearn.pipeline import make_pipeline\n",
    "from sklearn.metrics import mean_squared_error\n",
    "import matplotlib.pyplot as plt\n",
    "\n",
    "# Force float32 for torch compatibility\n",
    "float32_transformer = FunctionTransformer(lambda X: X.astype(np.float32), validate=False)\n",
    "\n",
    "# Define the same preprocessor as before\n",
    "numeric_cols = X.select_dtypes(include=['float64', 'int']).columns.tolist()\n",
    "categorical_cols = X.select_dtypes(include='object').columns.tolist()\n",
    "\n",
    "numeric_transformer = Pipeline([\n",
    "    ('imputer', SimpleImputer(strategy='mean')),\n",
    "    ('scaler', StandardScaler())\n",
    "])\n",
    "\n",
    "categorical_transformer = Pipeline([\n",
    "    ('imputer', SimpleImputer(strategy='most_frequent')),\n",
    "    ('onehot', OneHotEncoder(handle_unknown='ignore', sparse_output=False))\n",
    "])\n",
    "\n",
    "preprocessor = ColumnTransformer([\n",
    "    ('num', numeric_transformer, numeric_cols),\n",
    "    ('cat', categorical_transformer, categorical_cols)\n",
    "])\n",
    "\n",
    "# Set up time-based CV and storage\n",
    "tscv = GroupTimeSeriesSplit(n_splits=10, test_size=1)\n",
    "rmse_per_fold = []\n",
    "\n",
    "for i, (train_idx, test_idx) in enumerate(tscv.split(X, y, groups=groups), 1):\n",
    "    X_train, X_test = X.iloc[train_idx], X.iloc[test_idx]\n",
    "    y_train, y_test = y.iloc[train_idx], y.iloc[test_idx]\n",
    "\n",
    "    nn_pipeline = make_pipeline(\n",
    "        preprocessor,\n",
    "        float32_transformer,\n",
    "        NeuralNetRegressor(hidden_dim=64, epochs=50, batch_size=32, lr=1e-3)\n",
    "    )\n",
    "\n",
    "    nn_pipeline.fit(X_train, y_train)\n",
    "    y_pred = nn_pipeline.predict(X_test)\n",
    "    rmse = mean_squared_error(y_test, y_pred, squared=False)\n",
    "    rmse_per_fold.append(rmse)\n",
    "    print(f\"Fold {i} RMSE: {rmse:.2f}\")\n",
    "\n",
    "# Plot RMSE across folds\n",
    "plt.figure(figsize=(8,5))\n",
    "plt.plot(range(1, 11), rmse_per_fold, marker='o', label='Neural Network')\n",
    "plt.xlabel('CV Split Number')\n",
    "plt.ylabel('RMSE')\n",
    "plt.title('Neural Network RMSE Across Time Splits')\n",
    "plt.grid(True)\n",
    "plt.legend()\n",
    "plt.tight_layout()\n",
    "plt.show()\n"
   ]
  },
  {
   "cell_type": "code",
   "execution_count": null,
   "id": "c7fa4aee-c9c2-42a8-a5cf-a13b246ed5ae",
   "metadata": {},
   "outputs": [],
   "source": []
  }
 ],
 "metadata": {
  "kernelspec": {
   "display_name": "Python 3 (ipykernel)",
   "language": "python",
   "name": "python3"
  },
  "language_info": {
   "codemirror_mode": {
    "name": "ipython",
    "version": 3
   },
   "file_extension": ".py",
   "mimetype": "text/x-python",
   "name": "python",
   "nbconvert_exporter": "python",
   "pygments_lexer": "ipython3",
   "version": "3.12.8"
  }
 },
 "nbformat": 4,
 "nbformat_minor": 5
}
