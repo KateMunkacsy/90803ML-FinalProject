{
 "cells": [
  {
   "cell_type": "markdown",
   "id": "7a799548-47a7-409d-a246-7732e6dea1df",
   "metadata": {},
   "source": [
    "## Initial Setup"
   ]
  },
  {
   "cell_type": "code",
   "execution_count": 2,
   "id": "d02a118e-9461-46cd-8b05-9e803ba82b16",
   "metadata": {},
   "outputs": [],
   "source": [
    "import pandas as pd\n",
    "import numpy as np\n",
    "from sklearn.model_selection import train_test_split, cross_val_score, KFold\n",
    "from sklearn.preprocessing import OneHotEncoder, StandardScaler\n",
    "from sklearn.compose import ColumnTransformer\n",
    "from sklearn.pipeline import Pipeline\n",
    "from sklearn.impute import SimpleImputer\n",
    "from sklearn.linear_model import LinearRegression\n",
    "from sklearn.ensemble import RandomForestRegressor, GradientBoostingRegressor\n",
    "from sklearn.dummy import DummyRegressor\n",
    "from xgboost import XGBRegressor\n",
    "from lightgbm import LGBMRegressor\n",
    "from sklearn.model_selection import TimeSeriesSplit, cross_val_score"
   ]
  },
  {
   "cell_type": "markdown",
   "id": "c4c6ab9b-e27a-4b09-b6c7-69910c1e4815",
   "metadata": {},
   "source": [
    "## Import & Prepare Data"
   ]
  },
  {
   "cell_type": "code",
   "execution_count": 4,
   "id": "36a09112-6e03-4572-950f-2d21a38aff6e",
   "metadata": {},
   "outputs": [
    {
     "data": {
      "text/html": [
       "<div>\n",
       "<style scoped>\n",
       "    .dataframe tbody tr th:only-of-type {\n",
       "        vertical-align: middle;\n",
       "    }\n",
       "\n",
       "    .dataframe tbody tr th {\n",
       "        vertical-align: top;\n",
       "    }\n",
       "\n",
       "    .dataframe thead th {\n",
       "        text-align: right;\n",
       "    }\n",
       "</style>\n",
       "<table border=\"1\" class=\"dataframe\">\n",
       "  <thead>\n",
       "    <tr style=\"text-align: right;\">\n",
       "      <th></th>\n",
       "      <th>_id</th>\n",
       "      <th>route</th>\n",
       "      <th>ridership_route_code</th>\n",
       "      <th>route_full_name</th>\n",
       "      <th>current_garage</th>\n",
       "      <th>mode</th>\n",
       "      <th>month_start</th>\n",
       "      <th>year_month</th>\n",
       "      <th>day_type</th>\n",
       "      <th>avg_riders</th>\n",
       "      <th>day_count</th>\n",
       "      <th>total_precip</th>\n",
       "      <th>avg_temp</th>\n",
       "    </tr>\n",
       "  </thead>\n",
       "  <tbody>\n",
       "    <tr>\n",
       "      <th>0</th>\n",
       "      <td>1</td>\n",
       "      <td>1</td>\n",
       "      <td>001</td>\n",
       "      <td>1 - FREEPORT ROAD</td>\n",
       "      <td>Ross</td>\n",
       "      <td>Bus</td>\n",
       "      <td>2017-01-01</td>\n",
       "      <td>201701</td>\n",
       "      <td>SAT.</td>\n",
       "      <td>969.50</td>\n",
       "      <td>4</td>\n",
       "      <td>3.54</td>\n",
       "      <td>34.6</td>\n",
       "    </tr>\n",
       "    <tr>\n",
       "      <th>1</th>\n",
       "      <td>2</td>\n",
       "      <td>4</td>\n",
       "      <td>004</td>\n",
       "      <td>4 - TROY HILL</td>\n",
       "      <td>Ross</td>\n",
       "      <td>Bus</td>\n",
       "      <td>2017-01-01</td>\n",
       "      <td>201701</td>\n",
       "      <td>SAT.</td>\n",
       "      <td>218.25</td>\n",
       "      <td>4</td>\n",
       "      <td>3.54</td>\n",
       "      <td>34.6</td>\n",
       "    </tr>\n",
       "    <tr>\n",
       "      <th>2</th>\n",
       "      <td>3</td>\n",
       "      <td>6</td>\n",
       "      <td>006</td>\n",
       "      <td>6 - SPRING HILL</td>\n",
       "      <td>Ross</td>\n",
       "      <td>Bus</td>\n",
       "      <td>2017-01-01</td>\n",
       "      <td>201701</td>\n",
       "      <td>SAT.</td>\n",
       "      <td>495.50</td>\n",
       "      <td>4</td>\n",
       "      <td>3.54</td>\n",
       "      <td>34.6</td>\n",
       "    </tr>\n",
       "    <tr>\n",
       "      <th>3</th>\n",
       "      <td>4</td>\n",
       "      <td>8</td>\n",
       "      <td>008</td>\n",
       "      <td>8 - PERRYSVILLE</td>\n",
       "      <td>Ross</td>\n",
       "      <td>Bus</td>\n",
       "      <td>2017-01-01</td>\n",
       "      <td>201701</td>\n",
       "      <td>SAT.</td>\n",
       "      <td>1480.00</td>\n",
       "      <td>4</td>\n",
       "      <td>3.54</td>\n",
       "      <td>34.6</td>\n",
       "    </tr>\n",
       "    <tr>\n",
       "      <th>4</th>\n",
       "      <td>5</td>\n",
       "      <td>11</td>\n",
       "      <td>011</td>\n",
       "      <td>11 - FINEVIEW</td>\n",
       "      <td>Ross</td>\n",
       "      <td>Bus</td>\n",
       "      <td>2017-01-01</td>\n",
       "      <td>201701</td>\n",
       "      <td>SAT.</td>\n",
       "      <td>208.00</td>\n",
       "      <td>4</td>\n",
       "      <td>3.54</td>\n",
       "      <td>34.6</td>\n",
       "    </tr>\n",
       "  </tbody>\n",
       "</table>\n",
       "</div>"
      ],
      "text/plain": [
       "   _id route ridership_route_code    route_full_name current_garage mode  \\\n",
       "0    1     1                  001  1 - FREEPORT ROAD           Ross  Bus   \n",
       "1    2     4                  004      4 - TROY HILL           Ross  Bus   \n",
       "2    3     6                  006    6 - SPRING HILL           Ross  Bus   \n",
       "3    4     8                  008    8 - PERRYSVILLE           Ross  Bus   \n",
       "4    5    11                  011      11 - FINEVIEW           Ross  Bus   \n",
       "\n",
       "  month_start  year_month day_type  avg_riders  day_count  total_precip  \\\n",
       "0  2017-01-01      201701     SAT.      969.50          4          3.54   \n",
       "1  2017-01-01      201701     SAT.      218.25          4          3.54   \n",
       "2  2017-01-01      201701     SAT.      495.50          4          3.54   \n",
       "3  2017-01-01      201701     SAT.     1480.00          4          3.54   \n",
       "4  2017-01-01      201701     SAT.      208.00          4          3.54   \n",
       "\n",
       "   avg_temp  \n",
       "0      34.6  \n",
       "1      34.6  \n",
       "2      34.6  \n",
       "3      34.6  \n",
       "4      34.6  "
      ]
     },
     "execution_count": 4,
     "metadata": {},
     "output_type": "execute_result"
    }
   ],
   "source": [
    "ridership = pd.read_csv(\"Data/ridership.csv\")\n",
    "ridership.head()"
   ]
  },
  {
   "cell_type": "code",
   "execution_count": 5,
   "id": "a3589938-1d5b-4d9f-9eee-e358c491c717",
   "metadata": {},
   "outputs": [
    {
     "data": {
      "text/html": [
       "<div>\n",
       "<style scoped>\n",
       "    .dataframe tbody tr th:only-of-type {\n",
       "        vertical-align: middle;\n",
       "    }\n",
       "\n",
       "    .dataframe tbody tr th {\n",
       "        vertical-align: top;\n",
       "    }\n",
       "\n",
       "    .dataframe thead th {\n",
       "        text-align: right;\n",
       "    }\n",
       "</style>\n",
       "<table border=\"1\" class=\"dataframe\">\n",
       "  <thead>\n",
       "    <tr style=\"text-align: right;\">\n",
       "      <th></th>\n",
       "      <th>clever_id</th>\n",
       "      <th>stop_id</th>\n",
       "      <th>stop_name</th>\n",
       "      <th>direction</th>\n",
       "      <th>routes_ser</th>\n",
       "      <th>latitude</th>\n",
       "      <th>longitude</th>\n",
       "      <th>mode</th>\n",
       "      <th>shelter</th>\n",
       "      <th>stop_type</th>\n",
       "      <th>...</th>\n",
       "      <th>time_period</th>\n",
       "      <th>route_name</th>\n",
       "      <th>serviceday</th>\n",
       "      <th>total_ons</th>\n",
       "      <th>total_offs</th>\n",
       "      <th>days</th>\n",
       "      <th>avg_ons</th>\n",
       "      <th>avg_offs</th>\n",
       "      <th>total_precip</th>\n",
       "      <th>avg_temp</th>\n",
       "    </tr>\n",
       "  </thead>\n",
       "  <tbody>\n",
       "    <tr>\n",
       "      <th>0</th>\n",
       "      <td>7858</td>\n",
       "      <td>E02110</td>\n",
       "      <td>5TH ST AT CAVIT AVE</td>\n",
       "      <td>Inbound</td>\n",
       "      <td>69, P69</td>\n",
       "      <td>40.3858</td>\n",
       "      <td>-79.76</td>\n",
       "      <td>Bus</td>\n",
       "      <td>No Shelter</td>\n",
       "      <td>Bus Stop</td>\n",
       "      <td>...</td>\n",
       "      <td>Pre-pandemic</td>\n",
       "      <td>69</td>\n",
       "      <td>Sat</td>\n",
       "      <td>12.0</td>\n",
       "      <td>0.0</td>\n",
       "      <td>4</td>\n",
       "      <td>3.000000</td>\n",
       "      <td>0.00</td>\n",
       "      <td>5.34</td>\n",
       "      <td>69.0</td>\n",
       "    </tr>\n",
       "    <tr>\n",
       "      <th>1</th>\n",
       "      <td>7858</td>\n",
       "      <td>E02110</td>\n",
       "      <td>5TH ST AT CAVIT AVE</td>\n",
       "      <td>Inbound</td>\n",
       "      <td>69, P69</td>\n",
       "      <td>40.3858</td>\n",
       "      <td>-79.76</td>\n",
       "      <td>Bus</td>\n",
       "      <td>No Shelter</td>\n",
       "      <td>Bus Stop</td>\n",
       "      <td>...</td>\n",
       "      <td>Pre-pandemic</td>\n",
       "      <td>69</td>\n",
       "      <td>Sun</td>\n",
       "      <td>14.0</td>\n",
       "      <td>0.0</td>\n",
       "      <td>6</td>\n",
       "      <td>2.333333</td>\n",
       "      <td>0.00</td>\n",
       "      <td>5.34</td>\n",
       "      <td>69.0</td>\n",
       "    </tr>\n",
       "    <tr>\n",
       "      <th>2</th>\n",
       "      <td>7858</td>\n",
       "      <td>E02110</td>\n",
       "      <td>5TH ST AT CAVIT AVE</td>\n",
       "      <td>Inbound</td>\n",
       "      <td>69, P69</td>\n",
       "      <td>40.3858</td>\n",
       "      <td>-79.76</td>\n",
       "      <td>Bus</td>\n",
       "      <td>No Shelter</td>\n",
       "      <td>Bus Stop</td>\n",
       "      <td>...</td>\n",
       "      <td>Pre-pandemic</td>\n",
       "      <td>69</td>\n",
       "      <td>Weekday</td>\n",
       "      <td>64.0</td>\n",
       "      <td>1.0</td>\n",
       "      <td>20</td>\n",
       "      <td>3.200000</td>\n",
       "      <td>0.05</td>\n",
       "      <td>5.34</td>\n",
       "      <td>69.0</td>\n",
       "    </tr>\n",
       "    <tr>\n",
       "      <th>3</th>\n",
       "      <td>7858</td>\n",
       "      <td>E02110</td>\n",
       "      <td>5TH ST AT CAVIT AVE</td>\n",
       "      <td>Inbound</td>\n",
       "      <td>69, P69</td>\n",
       "      <td>40.3858</td>\n",
       "      <td>-79.76</td>\n",
       "      <td>Bus</td>\n",
       "      <td>No Shelter</td>\n",
       "      <td>Bus Stop</td>\n",
       "      <td>...</td>\n",
       "      <td>Pre-pandemic</td>\n",
       "      <td>P69</td>\n",
       "      <td>Weekday</td>\n",
       "      <td>39.0</td>\n",
       "      <td>0.0</td>\n",
       "      <td>20</td>\n",
       "      <td>1.950000</td>\n",
       "      <td>0.00</td>\n",
       "      <td>5.34</td>\n",
       "      <td>69.0</td>\n",
       "    </tr>\n",
       "    <tr>\n",
       "      <th>4</th>\n",
       "      <td>7858</td>\n",
       "      <td>E02110</td>\n",
       "      <td>5TH ST AT CAVIT AVE</td>\n",
       "      <td>Inbound</td>\n",
       "      <td>69, P69</td>\n",
       "      <td>40.3858</td>\n",
       "      <td>-79.76</td>\n",
       "      <td>Bus</td>\n",
       "      <td>No Shelter</td>\n",
       "      <td>Bus Stop</td>\n",
       "      <td>...</td>\n",
       "      <td>Pre-pandemic</td>\n",
       "      <td>69</td>\n",
       "      <td>Sat</td>\n",
       "      <td>11.0</td>\n",
       "      <td>0.0</td>\n",
       "      <td>4</td>\n",
       "      <td>2.750000</td>\n",
       "      <td>0.00</td>\n",
       "      <td>3.69</td>\n",
       "      <td>35.2</td>\n",
       "    </tr>\n",
       "  </tbody>\n",
       "</table>\n",
       "<p>5 rows × 21 columns</p>\n",
       "</div>"
      ],
      "text/plain": [
       "   clever_id stop_id            stop_name direction routes_ser  latitude  \\\n",
       "0       7858  E02110  5TH ST AT CAVIT AVE   Inbound    69, P69   40.3858   \n",
       "1       7858  E02110  5TH ST AT CAVIT AVE   Inbound    69, P69   40.3858   \n",
       "2       7858  E02110  5TH ST AT CAVIT AVE   Inbound    69, P69   40.3858   \n",
       "3       7858  E02110  5TH ST AT CAVIT AVE   Inbound    69, P69   40.3858   \n",
       "4       7858  E02110  5TH ST AT CAVIT AVE   Inbound    69, P69   40.3858   \n",
       "\n",
       "   longitude mode     shelter stop_type  ...   time_period route_name  \\\n",
       "0     -79.76  Bus  No Shelter  Bus Stop  ...  Pre-pandemic         69   \n",
       "1     -79.76  Bus  No Shelter  Bus Stop  ...  Pre-pandemic         69   \n",
       "2     -79.76  Bus  No Shelter  Bus Stop  ...  Pre-pandemic         69   \n",
       "3     -79.76  Bus  No Shelter  Bus Stop  ...  Pre-pandemic        P69   \n",
       "4     -79.76  Bus  No Shelter  Bus Stop  ...  Pre-pandemic         69   \n",
       "\n",
       "  serviceday total_ons  total_offs  days   avg_ons  avg_offs  total_precip  \\\n",
       "0        Sat      12.0         0.0     4  3.000000      0.00          5.34   \n",
       "1        Sun      14.0         0.0     6  2.333333      0.00          5.34   \n",
       "2    Weekday      64.0         1.0    20  3.200000      0.05          5.34   \n",
       "3    Weekday      39.0         0.0    20  1.950000      0.00          5.34   \n",
       "4        Sat      11.0         0.0     4  2.750000      0.00          3.69   \n",
       "\n",
       "   avg_temp  \n",
       "0      69.0  \n",
       "1      69.0  \n",
       "2      69.0  \n",
       "3      69.0  \n",
       "4      35.2  \n",
       "\n",
       "[5 rows x 21 columns]"
      ]
     },
     "execution_count": 5,
     "metadata": {},
     "output_type": "execute_result"
    }
   ],
   "source": [
    "stop_usage = pd.read_csv(\"Data/stop_usage.csv\")\n",
    "stop_usage.head()"
   ]
  },
  {
   "cell_type": "code",
   "execution_count": 6,
   "id": "40841cc0-9e4a-4934-8732-9b091a811d99",
   "metadata": {},
   "outputs": [
    {
     "data": {
      "text/plain": [
       "107611"
      ]
     },
     "execution_count": 6,
     "metadata": {},
     "output_type": "execute_result"
    }
   ],
   "source": [
    "len(stop_usage)"
   ]
  },
  {
   "cell_type": "code",
   "execution_count": 7,
   "id": "ae4a205e-ed8c-46a1-9ff0-85fc0b8df1c4",
   "metadata": {},
   "outputs": [],
   "source": [
    "stop_usage = stop_usage[~stop_usage['avg_ons'].isna()]"
   ]
  },
  {
   "cell_type": "code",
   "execution_count": 8,
   "id": "7c85321c-ee3b-415d-ba04-8780f37e1b97",
   "metadata": {},
   "outputs": [
    {
     "data": {
      "text/plain": [
       "107405"
      ]
     },
     "execution_count": 8,
     "metadata": {},
     "output_type": "execute_result"
    }
   ],
   "source": [
    "len(stop_usage)"
   ]
  },
  {
   "cell_type": "markdown",
   "id": "2ebd4637-4471-42b1-8ace-73873e983a1c",
   "metadata": {},
   "source": [
    "### Sort temporal data"
   ]
  },
  {
   "cell_type": "code",
   "execution_count": 10,
   "id": "32a6b3c6-0515-4b93-afe7-dcedc94d5590",
   "metadata": {},
   "outputs": [],
   "source": [
    "def prep_data(df, time_var, target_var, drop_vars):\n",
    "    df_sorted = df.sort_values(time_var)\n",
    "\n",
    "    ## establish feature and target dataframes\n",
    "    X = df_sorted.drop(drop_vars, axis = 1)\n",
    "    y = df_sorted[target_var]\n",
    "\n",
    "    ## drop sparse columns\n",
    "    sparse_columns = list(X.columns[X.nunique() / len(X) * 100 < 0.01])\n",
    "    X = X.drop(sparse_columns, axis = 1)\n",
    "    \n",
    "    return [X, y]"
   ]
  },
  {
   "cell_type": "markdown",
   "id": "79807f53-d26f-48f4-a8bc-31cf9579f719",
   "metadata": {},
   "source": [
    "### Establish feature and "
   ]
  },
  {
   "cell_type": "code",
   "execution_count": 12,
   "id": "457a9324-53f4-4a45-8260-a056495be13b",
   "metadata": {},
   "outputs": [],
   "source": [
    "# Establish X and y\n",
    "datasets = {'ridership': [], 'stop usage': []}\n",
    "datasets['ridership'] = prep_data(ridership, time_var = 'month_start', target_var = 'avg_riders', drop_vars = ['avg_riders', 'route_full_name'])\n",
    "datasets['stop usage'] = prep_data(stop_usage, time_var = 'datekey', target_var = 'total_ons', drop_vars = ['stop_name', 'total_ons'])"
   ]
  },
  {
   "cell_type": "markdown",
   "id": "4c80786a-c7b8-4f14-82a8-9a52e3194f4d",
   "metadata": {},
   "source": [
    "### Preprocessing"
   ]
  },
  {
   "cell_type": "code",
   "execution_count": 14,
   "id": "402d7dea-1993-4683-91fd-09f9877625ad",
   "metadata": {},
   "outputs": [],
   "source": [
    "def preprocess_steps(X):\n",
    "    # Identify column types\n",
    "    int_cols = X.select_dtypes(include='int').columns.tolist()\n",
    "    float_cols = X.select_dtypes(include='float').columns.tolist()\n",
    "    cat_cols = X.select_dtypes(include='object').columns.tolist()\n",
    "\n",
    "    # Preprocessing\n",
    "    numeric_preprocessor = Pipeline([\n",
    "        ('imputer', SimpleImputer(strategy='mean')),\n",
    "        ('scaler', StandardScaler())\n",
    "    ])\n",
    "    \n",
    "    categorical_preprocessor = Pipeline([\n",
    "        ('imputer', SimpleImputer(strategy='most_frequent')),\n",
    "        ('onehot', OneHotEncoder(handle_unknown='ignore'))\n",
    "    ])\n",
    "    \n",
    "    preprocessor = ColumnTransformer([\n",
    "        ('num', numeric_preprocessor, int_cols + float_cols),\n",
    "        ('cat', categorical_preprocessor, cat_cols)\n",
    "    ])\n",
    "    \n",
    "    # Define XGBoost and LightGBM pipelines\n",
    "    models = {\n",
    "        \"Baseline (Mean)\": DummyRegressor(strategy='mean'),\n",
    "        \"Linear Regression\": Pipeline(steps=[\n",
    "            ('preprocessor', preprocessor),\n",
    "            ('regressor', LinearRegression())\n",
    "        ]),\n",
    "        \"Random Forest\": Pipeline(steps=[\n",
    "            ('preprocessor', preprocessor),\n",
    "            ('regressor', RandomForestRegressor(n_estimators=25, random_state=47, n_jobs=-1))\n",
    "        ]),\n",
    "        'XGBoost': Pipeline([\n",
    "            ('preprocessor', preprocessor),\n",
    "            ('regressor', XGBRegressor(n_estimators=100, learning_rate=0.1, random_state=42))\n",
    "        ]),\n",
    "        'LightGBM': Pipeline([\n",
    "            ('preprocessor', preprocessor),\n",
    "            ('regressor', LGBMRegressor(n_estimators=100, learning_rate=0.1, random_state=42))\n",
    "        ])\n",
    "    }\n",
    "    return models"
   ]
  },
  {
   "cell_type": "markdown",
   "id": "5ab4f3b6-d091-4098-8252-40120577f130",
   "metadata": {},
   "source": [
    "## Fit Models"
   ]
  },
  {
   "cell_type": "code",
   "execution_count": 16,
   "id": "e2bc7474-3be0-4a49-8491-45df2d5a40d2",
   "metadata": {},
   "outputs": [
    {
     "name": "stdout",
     "output_type": "stream",
     "text": [
      "Predictions for ridership:\n",
      "Baseline (Mean)      | Mean RMSE:  1,292.428 | Std: 284.978\n",
      "Linear Regression    | Mean RMSE:    900.410 | Std: 283.068\n",
      "Random Forest        | Mean RMSE:    588.167 | Std: 362.441\n",
      "XGBoost              | Mean RMSE:    634.341 | Std: 270.685\n",
      "LightGBM             | Mean RMSE:    607.020 | Std: 257.932\n",
      "\n",
      "Predictions for stop usage:\n",
      "Baseline (Mean)      | Mean RMSE:    324.453 | Std: 202.314\n",
      "Linear Regression    | Mean RMSE:    121.240 | Std: 48.062\n",
      "Random Forest        | Mean RMSE:    102.847 | Std: 127.301\n",
      "XGBoost              | Mean RMSE:    134.576 | Std: 116.734\n",
      "LightGBM             | Mean RMSE:    120.884 | Std: 141.135\n",
      "\n"
     ]
    }
   ],
   "source": [
    "tscv = TimeSeriesSplit(n_splits = 5)\n",
    "for key,value in datasets.items():\n",
    "    print(f\"Predictions for {key}:\")\n",
    "    X = value[0]\n",
    "    y = value[1]\n",
    "    models = preprocess_steps(X)\n",
    "    for name, model in models.items():\n",
    "        scores = cross_val_score(model, X, y, cv = tscv, scoring = 'neg_root_mean_squared_error', n_jobs = -1)\n",
    "        rmse_scores = -scores\n",
    "        print(f\"{name:<20} | Mean RMSE: {rmse_scores.mean():>10,.3f} | Std: {rmse_scores.std():.3f}\")\n",
    "    print(\"\")"
   ]
  },
  {
   "cell_type": "markdown",
   "id": "13470e34-6d1f-4328-8047-924047364ae7",
   "metadata": {},
   "source": [
    "## Consider PCA"
   ]
  },
  {
   "cell_type": "code",
   "execution_count": 171,
   "id": "40fab2d5-f514-4237-bc36-51500487a37e",
   "metadata": {
    "collapsed": true,
    "jupyter": {
     "outputs_hidden": true
    }
   },
   "outputs": [
    {
     "ename": "ValueError",
     "evalue": "all the input array dimensions except for the concatenation axis must match exactly, but along dimension 0, the array at index 0 has size 1 and the array at index 1 has size 22317",
     "output_type": "error",
     "traceback": [
      "\u001b[1;31m---------------------------------------------------------------------------\u001b[0m",
      "\u001b[1;31mValueError\u001b[0m                                Traceback (most recent call last)",
      "Cell \u001b[1;32mIn[171], line 7\u001b[0m\n\u001b[0;32m      5\u001b[0m X_scaled \u001b[38;5;241m=\u001b[39m preprocessor\u001b[38;5;241m.\u001b[39mfit_transform(X)\n\u001b[0;32m      6\u001b[0m y \u001b[38;5;241m=\u001b[39m datasets[\u001b[38;5;124m'\u001b[39m\u001b[38;5;124mridership\u001b[39m\u001b[38;5;124m'\u001b[39m][\u001b[38;5;241m1\u001b[39m]\n\u001b[1;32m----> 7\u001b[0m xy \u001b[38;5;241m=\u001b[39m np\u001b[38;5;241m.\u001b[39mcolumn_stack((X_scaled, y))\n\u001b[0;32m      8\u001b[0m pca_data \u001b[38;5;241m=\u001b[39m pca\u001b[38;5;241m.\u001b[39mfit_transform(xy)\n",
      "File \u001b[1;32m~\\anaconda3\\Lib\\site-packages\\numpy\\lib\\shape_base.py:652\u001b[0m, in \u001b[0;36mcolumn_stack\u001b[1;34m(tup)\u001b[0m\n\u001b[0;32m    650\u001b[0m         arr \u001b[38;5;241m=\u001b[39m array(arr, copy\u001b[38;5;241m=\u001b[39m\u001b[38;5;28;01mFalse\u001b[39;00m, subok\u001b[38;5;241m=\u001b[39m\u001b[38;5;28;01mTrue\u001b[39;00m, ndmin\u001b[38;5;241m=\u001b[39m\u001b[38;5;241m2\u001b[39m)\u001b[38;5;241m.\u001b[39mT\n\u001b[0;32m    651\u001b[0m     arrays\u001b[38;5;241m.\u001b[39mappend(arr)\n\u001b[1;32m--> 652\u001b[0m \u001b[38;5;28;01mreturn\u001b[39;00m _nx\u001b[38;5;241m.\u001b[39mconcatenate(arrays, \u001b[38;5;241m1\u001b[39m)\n",
      "\u001b[1;31mValueError\u001b[0m: all the input array dimensions except for the concatenation axis must match exactly, but along dimension 0, the array at index 0 has size 1 and the array at index 1 has size 22317"
     ]
    }
   ],
   "source": [
    "## Note - the below code is not currently working\n",
    "from sklearn.decomposition import PCA\n",
    "\n",
    "pca = PCA(n_components=2)\n",
    "\n",
    "X = datasets['ridership'][0]\n",
    "X_scaled = preprocessor.fit_transform(X)\n",
    "\n",
    "y = datasets['ridership'][1]\n",
    "\n",
    "xy = np.column_stack((X_scaled, y))\n",
    "\n",
    "pca_data = pca.fit_transform(xy)"
   ]
  },
  {
   "cell_type": "code",
   "execution_count": null,
   "id": "37bdfa0a-cba3-4df1-a62d-4adb3375f8d4",
   "metadata": {},
   "outputs": [],
   "source": [
    "np.sum(pca.explained_variance_ratio_)"
   ]
  },
  {
   "cell_type": "code",
   "execution_count": null,
   "id": "cf15f6bf-a557-4d4c-9a39-6c5d07452b31",
   "metadata": {},
   "outputs": [],
   "source": [
    "plt.figure(figsize=(9, 6))\n",
    "plt.plot(pca.explained_variance_ratio_)\n",
    "plt.xlabel('Principal Component')\n",
    "plt.ylabel('Explained Variance')\n",
    "plt.show()"
   ]
  },
  {
   "cell_type": "code",
   "execution_count": null,
   "id": "82aaa8f1-0ec6-4635-89d9-96dc1c2b64ed",
   "metadata": {},
   "outputs": [],
   "source": [
    "plt.figure(figsize=(9, 6))\n",
    "plt.plot(np.cumsum(pca.explained_variance_ratio_))\n",
    "plt.xlabel('Number of Components')\n",
    "plt.ylabel('Cumulative Explained Variance');\n",
    "plt.show()"
   ]
  }
 ],
 "metadata": {
  "kernelspec": {
   "display_name": "Python 3 (ipykernel)",
   "language": "python",
   "name": "python3"
  },
  "language_info": {
   "codemirror_mode": {
    "name": "ipython",
    "version": 3
   },
   "file_extension": ".py",
   "mimetype": "text/x-python",
   "name": "python",
   "nbconvert_exporter": "python",
   "pygments_lexer": "ipython3",
   "version": "3.12.3"
  }
 },
 "nbformat": 4,
 "nbformat_minor": 5
}
