{
 "cells": [
  {
   "cell_type": "code",
   "execution_count": 2,
   "id": "f58c740b-7143-4e1e-915a-05f195ecf2d1",
   "metadata": {},
   "outputs": [
    {
     "name": "stdout",
     "output_type": "stream",
     "text": [
      "/Users/garrettkent/Desktop/90803ML-FinalProject/Data\n"
     ]
    }
   ],
   "source": [
    "cd '/Users/garrettkent/Desktop/90803ML-FinalProject/Data'"
   ]
  },
  {
   "cell_type": "code",
   "execution_count": 3,
   "id": "658006d6-592c-4c1c-803b-1266ba1b8ca1",
   "metadata": {},
   "outputs": [
    {
     "name": "stdout",
     "output_type": "stream",
     "text": [
      "ACS 5 Year_Commuting Data_2019-2023.xlsx\n",
      "ACS 5 Year_Demographic Data_2019-2023.xlsx\n",
      "avg_ridership.csv\n",
      "ridership.csv\n",
      "stop_usage.csv\n",
      "wprdc_stop_data.csv\n"
     ]
    }
   ],
   "source": [
    "ls"
   ]
  },
  {
   "cell_type": "code",
   "execution_count": 5,
   "id": "c2dbc092-b843-4908-bb4d-2481a72ab949",
   "metadata": {},
   "outputs": [],
   "source": [
    "import pandas as pd\n",
    "import numpy as np\n",
    "from sklearn.model_selection import train_test_split, cross_val_score, KFold\n",
    "from sklearn.preprocessing import OneHotEncoder, StandardScaler\n",
    "from sklearn.compose import ColumnTransformer\n",
    "from sklearn.pipeline import Pipeline\n",
    "from sklearn.impute import SimpleImputer\n",
    "from sklearn.linear_model import LinearRegression\n",
    "from sklearn.ensemble import RandomForestRegressor, GradientBoostingRegressor\n",
    "from sklearn.dummy import DummyRegressor\n",
    "from xgboost import XGBRegressor"
   ]
  },
  {
   "cell_type": "code",
   "execution_count": null,
   "id": "b67fb75b-15dd-4835-a26a-2e26a9018426",
   "metadata": {},
   "outputs": [],
   "source": []
  }
 ],
 "metadata": {
  "kernelspec": {
   "display_name": "Python 3 (base)",
   "language": "python",
   "name": "base"
  },
  "language_info": {
   "codemirror_mode": {
    "name": "ipython",
    "version": 3
   },
   "file_extension": ".py",
   "mimetype": "text/x-python",
   "name": "python",
   "nbconvert_exporter": "python",
   "pygments_lexer": "ipython3",
   "version": "3.12.8"
  }
 },
 "nbformat": 4,
 "nbformat_minor": 5
}
