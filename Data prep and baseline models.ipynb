{
 "cells": [
  {
   "cell_type": "code",
   "execution_count": 2,
   "id": "9f3abe8e-d20a-430c-bc40-3643c715c7e1",
   "metadata": {},
   "outputs": [
    {
     "name": "stdout",
     "output_type": "stream",
     "text": [
      "90803-project-s25.pdf                Data prep and baseline models.ipynb\n",
      "\u001b[34mData\u001b[m\u001b[m/                                EDA.ipynb\n"
     ]
    }
   ],
   "source": [
    "ls"
   ]
  },
  {
   "cell_type": "code",
   "execution_count": 3,
   "id": "b21539cb-3bad-4db6-ab2d-952fc229d5dd",
   "metadata": {},
   "outputs": [
    {
     "name": "stdout",
     "output_type": "stream",
     "text": [
      "/Users/garrettkent/Desktop/Spring 2025/Machine Learning with Python/Final Project/Data\n"
     ]
    }
   ],
   "source": [
    "cd '/Users/garrettkent/Desktop/Spring 2025/Machine Learning with Python/Final Project/Data'"
   ]
  },
  {
   "cell_type": "code",
   "execution_count": 4,
   "id": "90387e24-651a-41a7-93ba-dc364dfa1ff7",
   "metadata": {},
   "outputs": [
    {
     "name": "stdout",
     "output_type": "stream",
     "text": [
      "EDA.ipynb         Stop Usage.csv    stop_usage.csv\n",
      "OTP by Route.csv  ridership.csv\n"
     ]
    }
   ],
   "source": [
    "ls"
   ]
  },
  {
   "cell_type": "code",
   "execution_count": 5,
   "id": "bde5a29e-930f-4a3c-908a-840c51f6e4ad",
   "metadata": {},
   "outputs": [],
   "source": [
    "import pandas as pd\n",
    "\n",
    "# Load datasets\n",
    "ridership = pd.read_csv(\"Ridership.csv\")\n",
    "stop_usage = pd.read_csv(\"Stop Usage.csv\")"
   ]
  },
  {
   "cell_type": "code",
   "execution_count": 20,
   "id": "b7b29fac-1743-45b4-8b8d-fb0b2ff459ba",
   "metadata": {},
   "outputs": [],
   "source": [
    "from sklearn.datasets import make_classification\n",
    "from sklearn.model_selection import train_test_split\n",
    "from sklearn.preprocessing import MinMaxScaler\n",
    "from sklearn.linear_model import LogisticRegression\n",
    "from sklearn.model_selection import cross_val_score\n",
    "from sklearn.model_selection import RepeatedStratifiedKFold\n",
    "from sklearn.metrics import accuracy_score"
   ]
  },
  {
   "cell_type": "code",
   "execution_count": 21,
   "id": "4117202d-4d74-4231-9aad-6f92f18b41ee",
   "metadata": {},
   "outputs": [
    {
     "data": {
      "text/html": [
       "<div>\n",
       "<style scoped>\n",
       "    .dataframe tbody tr th:only-of-type {\n",
       "        vertical-align: middle;\n",
       "    }\n",
       "\n",
       "    .dataframe tbody tr th {\n",
       "        vertical-align: top;\n",
       "    }\n",
       "\n",
       "    .dataframe thead th {\n",
       "        text-align: right;\n",
       "    }\n",
       "</style>\n",
       "<table border=\"1\" class=\"dataframe\">\n",
       "  <thead>\n",
       "    <tr style=\"text-align: right;\">\n",
       "      <th></th>\n",
       "      <th>_id</th>\n",
       "      <th>route</th>\n",
       "      <th>ridership_route_code</th>\n",
       "      <th>route_full_name</th>\n",
       "      <th>current_garage</th>\n",
       "      <th>mode</th>\n",
       "      <th>month_start</th>\n",
       "      <th>year_month</th>\n",
       "      <th>day_type</th>\n",
       "      <th>avg_riders</th>\n",
       "      <th>day_count</th>\n",
       "      <th>total_precip</th>\n",
       "      <th>avg_temp</th>\n",
       "    </tr>\n",
       "  </thead>\n",
       "  <tbody>\n",
       "    <tr>\n",
       "      <th>0</th>\n",
       "      <td>1</td>\n",
       "      <td>1</td>\n",
       "      <td>001</td>\n",
       "      <td>1 - FREEPORT ROAD</td>\n",
       "      <td>Ross</td>\n",
       "      <td>Bus</td>\n",
       "      <td>2017-01-01</td>\n",
       "      <td>201701</td>\n",
       "      <td>SAT.</td>\n",
       "      <td>969.50</td>\n",
       "      <td>4</td>\n",
       "      <td>3.54</td>\n",
       "      <td>34.6</td>\n",
       "    </tr>\n",
       "    <tr>\n",
       "      <th>1</th>\n",
       "      <td>2</td>\n",
       "      <td>4</td>\n",
       "      <td>004</td>\n",
       "      <td>4 - TROY HILL</td>\n",
       "      <td>Ross</td>\n",
       "      <td>Bus</td>\n",
       "      <td>2017-01-01</td>\n",
       "      <td>201701</td>\n",
       "      <td>SAT.</td>\n",
       "      <td>218.25</td>\n",
       "      <td>4</td>\n",
       "      <td>3.54</td>\n",
       "      <td>34.6</td>\n",
       "    </tr>\n",
       "    <tr>\n",
       "      <th>2</th>\n",
       "      <td>3</td>\n",
       "      <td>6</td>\n",
       "      <td>006</td>\n",
       "      <td>6 - SPRING HILL</td>\n",
       "      <td>Ross</td>\n",
       "      <td>Bus</td>\n",
       "      <td>2017-01-01</td>\n",
       "      <td>201701</td>\n",
       "      <td>SAT.</td>\n",
       "      <td>495.50</td>\n",
       "      <td>4</td>\n",
       "      <td>3.54</td>\n",
       "      <td>34.6</td>\n",
       "    </tr>\n",
       "    <tr>\n",
       "      <th>3</th>\n",
       "      <td>4</td>\n",
       "      <td>8</td>\n",
       "      <td>008</td>\n",
       "      <td>8 - PERRYSVILLE</td>\n",
       "      <td>Ross</td>\n",
       "      <td>Bus</td>\n",
       "      <td>2017-01-01</td>\n",
       "      <td>201701</td>\n",
       "      <td>SAT.</td>\n",
       "      <td>1480.00</td>\n",
       "      <td>4</td>\n",
       "      <td>3.54</td>\n",
       "      <td>34.6</td>\n",
       "    </tr>\n",
       "    <tr>\n",
       "      <th>4</th>\n",
       "      <td>5</td>\n",
       "      <td>11</td>\n",
       "      <td>011</td>\n",
       "      <td>11 - FINEVIEW</td>\n",
       "      <td>Ross</td>\n",
       "      <td>Bus</td>\n",
       "      <td>2017-01-01</td>\n",
       "      <td>201701</td>\n",
       "      <td>SAT.</td>\n",
       "      <td>208.00</td>\n",
       "      <td>4</td>\n",
       "      <td>3.54</td>\n",
       "      <td>34.6</td>\n",
       "    </tr>\n",
       "  </tbody>\n",
       "</table>\n",
       "</div>"
      ],
      "text/plain": [
       "   _id route ridership_route_code    route_full_name current_garage mode  \\\n",
       "0    1     1                  001  1 - FREEPORT ROAD           Ross  Bus   \n",
       "1    2     4                  004      4 - TROY HILL           Ross  Bus   \n",
       "2    3     6                  006    6 - SPRING HILL           Ross  Bus   \n",
       "3    4     8                  008    8 - PERRYSVILLE           Ross  Bus   \n",
       "4    5    11                  011      11 - FINEVIEW           Ross  Bus   \n",
       "\n",
       "  month_start  year_month day_type  avg_riders  day_count  total_precip  \\\n",
       "0  2017-01-01      201701     SAT.      969.50          4          3.54   \n",
       "1  2017-01-01      201701     SAT.      218.25          4          3.54   \n",
       "2  2017-01-01      201701     SAT.      495.50          4          3.54   \n",
       "3  2017-01-01      201701     SAT.     1480.00          4          3.54   \n",
       "4  2017-01-01      201701     SAT.      208.00          4          3.54   \n",
       "\n",
       "   avg_temp  \n",
       "0      34.6  \n",
       "1      34.6  \n",
       "2      34.6  \n",
       "3      34.6  \n",
       "4      34.6  "
      ]
     },
     "execution_count": 21,
     "metadata": {},
     "output_type": "execute_result"
    }
   ],
   "source": [
    "ridership.head()"
   ]
  },
  {
   "cell_type": "code",
   "execution_count": 22,
   "id": "53bf12bc-2408-4d39-8556-7cd24b2d09ce",
   "metadata": {},
   "outputs": [
    {
     "data": {
      "text/html": [
       "<div>\n",
       "<style scoped>\n",
       "    .dataframe tbody tr th:only-of-type {\n",
       "        vertical-align: middle;\n",
       "    }\n",
       "\n",
       "    .dataframe tbody tr th {\n",
       "        vertical-align: top;\n",
       "    }\n",
       "\n",
       "    .dataframe thead th {\n",
       "        text-align: right;\n",
       "    }\n",
       "</style>\n",
       "<table border=\"1\" class=\"dataframe\">\n",
       "  <thead>\n",
       "    <tr style=\"text-align: right;\">\n",
       "      <th></th>\n",
       "      <th>_id</th>\n",
       "      <th>route</th>\n",
       "      <th>ridership_route_code</th>\n",
       "      <th>current_garage</th>\n",
       "      <th>mode</th>\n",
       "      <th>month_start</th>\n",
       "      <th>year_month</th>\n",
       "      <th>day_type</th>\n",
       "      <th>day_count</th>\n",
       "      <th>total_precip</th>\n",
       "      <th>avg_temp</th>\n",
       "    </tr>\n",
       "  </thead>\n",
       "  <tbody>\n",
       "    <tr>\n",
       "      <th>0</th>\n",
       "      <td>1</td>\n",
       "      <td>1</td>\n",
       "      <td>001</td>\n",
       "      <td>Ross</td>\n",
       "      <td>Bus</td>\n",
       "      <td>2017-01-01</td>\n",
       "      <td>201701</td>\n",
       "      <td>SAT.</td>\n",
       "      <td>4</td>\n",
       "      <td>3.54</td>\n",
       "      <td>34.6</td>\n",
       "    </tr>\n",
       "    <tr>\n",
       "      <th>1</th>\n",
       "      <td>2</td>\n",
       "      <td>4</td>\n",
       "      <td>004</td>\n",
       "      <td>Ross</td>\n",
       "      <td>Bus</td>\n",
       "      <td>2017-01-01</td>\n",
       "      <td>201701</td>\n",
       "      <td>SAT.</td>\n",
       "      <td>4</td>\n",
       "      <td>3.54</td>\n",
       "      <td>34.6</td>\n",
       "    </tr>\n",
       "    <tr>\n",
       "      <th>2</th>\n",
       "      <td>3</td>\n",
       "      <td>6</td>\n",
       "      <td>006</td>\n",
       "      <td>Ross</td>\n",
       "      <td>Bus</td>\n",
       "      <td>2017-01-01</td>\n",
       "      <td>201701</td>\n",
       "      <td>SAT.</td>\n",
       "      <td>4</td>\n",
       "      <td>3.54</td>\n",
       "      <td>34.6</td>\n",
       "    </tr>\n",
       "    <tr>\n",
       "      <th>3</th>\n",
       "      <td>4</td>\n",
       "      <td>8</td>\n",
       "      <td>008</td>\n",
       "      <td>Ross</td>\n",
       "      <td>Bus</td>\n",
       "      <td>2017-01-01</td>\n",
       "      <td>201701</td>\n",
       "      <td>SAT.</td>\n",
       "      <td>4</td>\n",
       "      <td>3.54</td>\n",
       "      <td>34.6</td>\n",
       "    </tr>\n",
       "    <tr>\n",
       "      <th>4</th>\n",
       "      <td>5</td>\n",
       "      <td>11</td>\n",
       "      <td>011</td>\n",
       "      <td>Ross</td>\n",
       "      <td>Bus</td>\n",
       "      <td>2017-01-01</td>\n",
       "      <td>201701</td>\n",
       "      <td>SAT.</td>\n",
       "      <td>4</td>\n",
       "      <td>3.54</td>\n",
       "      <td>34.6</td>\n",
       "    </tr>\n",
       "  </tbody>\n",
       "</table>\n",
       "</div>"
      ],
      "text/plain": [
       "   _id route ridership_route_code current_garage mode month_start  year_month  \\\n",
       "0    1     1                  001           Ross  Bus  2017-01-01      201701   \n",
       "1    2     4                  004           Ross  Bus  2017-01-01      201701   \n",
       "2    3     6                  006           Ross  Bus  2017-01-01      201701   \n",
       "3    4     8                  008           Ross  Bus  2017-01-01      201701   \n",
       "4    5    11                  011           Ross  Bus  2017-01-01      201701   \n",
       "\n",
       "  day_type  day_count  total_precip  avg_temp  \n",
       "0     SAT.          4          3.54      34.6  \n",
       "1     SAT.          4          3.54      34.6  \n",
       "2     SAT.          4          3.54      34.6  \n",
       "3     SAT.          4          3.54      34.6  \n",
       "4     SAT.          4          3.54      34.6  "
      ]
     },
     "execution_count": 22,
     "metadata": {},
     "output_type": "execute_result"
    }
   ],
   "source": [
    "X = ridership.drop(['avg_riders', 'route_full_name'], axis=1)\n",
    "X.head()"
   ]
  },
  {
   "cell_type": "code",
   "execution_count": 23,
   "id": "0a574bbe-e76a-4fa1-b645-a332a8188ad2",
   "metadata": {},
   "outputs": [
    {
     "data": {
      "text/plain": [
       "0     969.50\n",
       "1     218.25\n",
       "2     495.50\n",
       "3    1480.00\n",
       "4     208.00\n",
       "Name: avg_riders, dtype: float64"
      ]
     },
     "execution_count": 23,
     "metadata": {},
     "output_type": "execute_result"
    }
   ],
   "source": [
    "y = ridership['avg_riders']\n",
    "y.head()"
   ]
  },
  {
   "cell_type": "code",
   "execution_count": 24,
   "id": "d9d37243-bd94-4e6e-af06-8ff36b736bbd",
   "metadata": {},
   "outputs": [
    {
     "data": {
      "text/plain": [
       "((22317, 11), (22317,))"
      ]
     },
     "execution_count": 24,
     "metadata": {},
     "output_type": "execute_result"
    }
   ],
   "source": [
    "X.shape, y.shape"
   ]
  },
  {
   "cell_type": "code",
   "execution_count": 25,
   "id": "feadf9b7-f872-49ff-9d10-24449150b319",
   "metadata": {},
   "outputs": [],
   "source": [
    "# identifying null values and dropping sparse columns"
   ]
  },
  {
   "cell_type": "code",
   "execution_count": 26,
   "id": "8315f85f-af87-4f0d-8022-69fb2b93fe57",
   "metadata": {},
   "outputs": [
    {
     "data": {
      "text/plain": [
       "_id                         0\n",
       "route                       1\n",
       "ridership_route_code    10938\n",
       "current_garage            189\n",
       "mode                        1\n",
       "month_start                 0\n",
       "year_month                  0\n",
       "day_type                    0\n",
       "day_count                   0\n",
       "total_precip                0\n",
       "avg_temp                 2434\n",
       "dtype: int64"
      ]
     },
     "execution_count": 26,
     "metadata": {},
     "output_type": "execute_result"
    }
   ],
   "source": [
    "X.isna().sum()"
   ]
  },
  {
   "cell_type": "code",
   "execution_count": 27,
   "id": "4cb760b1-934d-46d5-b577-196ad518a13e",
   "metadata": {},
   "outputs": [
    {
     "data": {
      "text/plain": [
       "_id                     22317\n",
       "route                     108\n",
       "ridership_route_code      121\n",
       "current_garage              6\n",
       "mode                        4\n",
       "month_start                94\n",
       "year_month                 94\n",
       "day_type                    3\n",
       "day_count                   9\n",
       "total_precip               85\n",
       "avg_temp                   80\n",
       "dtype: int64"
      ]
     },
     "execution_count": 27,
     "metadata": {},
     "output_type": "execute_result"
    }
   ],
   "source": [
    "X.nunique(axis=0)"
   ]
  },
  {
   "cell_type": "code",
   "execution_count": 28,
   "id": "6863c136-a3ab-4f39-8da3-d203d31d6bf3",
   "metadata": {},
   "outputs": [
    {
     "data": {
      "text/plain": [
       "_id                     100.000000\n",
       "route                     0.483936\n",
       "ridership_route_code      0.542188\n",
       "current_garage            0.026885\n",
       "mode                      0.017924\n",
       "month_start               0.421204\n",
       "year_month                0.421204\n",
       "day_type                  0.013443\n",
       "day_count                 0.040328\n",
       "total_precip              0.380876\n",
       "avg_temp                  0.358471\n",
       "dtype: float64"
      ]
     },
     "execution_count": 28,
     "metadata": {},
     "output_type": "execute_result"
    }
   ],
   "source": [
    "X.nunique()/len(X)*100"
   ]
  },
  {
   "cell_type": "code",
   "execution_count": 29,
   "id": "d1ce2918-505d-4e7a-a64b-ecbb6058a26b",
   "metadata": {},
   "outputs": [],
   "source": [
    "sparse_columns = list(X.columns[X.nunique()/len(X)*100 < 0.01])\n",
    "X = X.drop(sparse_columns, axis=1)"
   ]
  },
  {
   "cell_type": "code",
   "execution_count": 30,
   "id": "78413c75-562a-4bfc-8c46-8a3a1ca4d043",
   "metadata": {},
   "outputs": [],
   "source": [
    "#imputation, one-hot encoding, and training baseline models with cross-validation"
   ]
  },
  {
   "cell_type": "code",
   "execution_count": 31,
   "id": "9479a513-cead-4fde-aa25-a3fdfd7929ab",
   "metadata": {},
   "outputs": [
    {
     "data": {
      "text/html": [
       "<div>\n",
       "<style scoped>\n",
       "    .dataframe tbody tr th:only-of-type {\n",
       "        vertical-align: middle;\n",
       "    }\n",
       "\n",
       "    .dataframe tbody tr th {\n",
       "        vertical-align: top;\n",
       "    }\n",
       "\n",
       "    .dataframe thead th {\n",
       "        text-align: right;\n",
       "    }\n",
       "</style>\n",
       "<table border=\"1\" class=\"dataframe\">\n",
       "  <thead>\n",
       "    <tr style=\"text-align: right;\">\n",
       "      <th></th>\n",
       "      <th>_id</th>\n",
       "      <th>route</th>\n",
       "      <th>ridership_route_code</th>\n",
       "      <th>current_garage</th>\n",
       "      <th>mode</th>\n",
       "      <th>month_start</th>\n",
       "      <th>year_month</th>\n",
       "      <th>day_type</th>\n",
       "      <th>day_count</th>\n",
       "      <th>total_precip</th>\n",
       "      <th>avg_temp</th>\n",
       "    </tr>\n",
       "  </thead>\n",
       "  <tbody>\n",
       "    <tr>\n",
       "      <th>0</th>\n",
       "      <td>1</td>\n",
       "      <td>1</td>\n",
       "      <td>001</td>\n",
       "      <td>Ross</td>\n",
       "      <td>Bus</td>\n",
       "      <td>2017-01-01</td>\n",
       "      <td>201701</td>\n",
       "      <td>SAT.</td>\n",
       "      <td>4</td>\n",
       "      <td>3.54</td>\n",
       "      <td>34.6</td>\n",
       "    </tr>\n",
       "    <tr>\n",
       "      <th>1</th>\n",
       "      <td>2</td>\n",
       "      <td>4</td>\n",
       "      <td>004</td>\n",
       "      <td>Ross</td>\n",
       "      <td>Bus</td>\n",
       "      <td>2017-01-01</td>\n",
       "      <td>201701</td>\n",
       "      <td>SAT.</td>\n",
       "      <td>4</td>\n",
       "      <td>3.54</td>\n",
       "      <td>34.6</td>\n",
       "    </tr>\n",
       "    <tr>\n",
       "      <th>2</th>\n",
       "      <td>3</td>\n",
       "      <td>6</td>\n",
       "      <td>006</td>\n",
       "      <td>Ross</td>\n",
       "      <td>Bus</td>\n",
       "      <td>2017-01-01</td>\n",
       "      <td>201701</td>\n",
       "      <td>SAT.</td>\n",
       "      <td>4</td>\n",
       "      <td>3.54</td>\n",
       "      <td>34.6</td>\n",
       "    </tr>\n",
       "    <tr>\n",
       "      <th>3</th>\n",
       "      <td>4</td>\n",
       "      <td>8</td>\n",
       "      <td>008</td>\n",
       "      <td>Ross</td>\n",
       "      <td>Bus</td>\n",
       "      <td>2017-01-01</td>\n",
       "      <td>201701</td>\n",
       "      <td>SAT.</td>\n",
       "      <td>4</td>\n",
       "      <td>3.54</td>\n",
       "      <td>34.6</td>\n",
       "    </tr>\n",
       "    <tr>\n",
       "      <th>4</th>\n",
       "      <td>5</td>\n",
       "      <td>11</td>\n",
       "      <td>011</td>\n",
       "      <td>Ross</td>\n",
       "      <td>Bus</td>\n",
       "      <td>2017-01-01</td>\n",
       "      <td>201701</td>\n",
       "      <td>SAT.</td>\n",
       "      <td>4</td>\n",
       "      <td>3.54</td>\n",
       "      <td>34.6</td>\n",
       "    </tr>\n",
       "  </tbody>\n",
       "</table>\n",
       "</div>"
      ],
      "text/plain": [
       "   _id route ridership_route_code current_garage mode month_start  year_month  \\\n",
       "0    1     1                  001           Ross  Bus  2017-01-01      201701   \n",
       "1    2     4                  004           Ross  Bus  2017-01-01      201701   \n",
       "2    3     6                  006           Ross  Bus  2017-01-01      201701   \n",
       "3    4     8                  008           Ross  Bus  2017-01-01      201701   \n",
       "4    5    11                  011           Ross  Bus  2017-01-01      201701   \n",
       "\n",
       "  day_type  day_count  total_precip  avg_temp  \n",
       "0     SAT.          4          3.54      34.6  \n",
       "1     SAT.          4          3.54      34.6  \n",
       "2     SAT.          4          3.54      34.6  \n",
       "3     SAT.          4          3.54      34.6  \n",
       "4     SAT.          4          3.54      34.6  "
      ]
     },
     "execution_count": 31,
     "metadata": {},
     "output_type": "execute_result"
    }
   ],
   "source": [
    "X.head()"
   ]
  },
  {
   "cell_type": "code",
   "execution_count": 32,
   "id": "ab6418a7-53f1-4cd4-9caf-00a3e756f1e5",
   "metadata": {},
   "outputs": [
    {
     "name": "stdout",
     "output_type": "stream",
     "text": [
      "Baseline (Mean) | Mean RMSE: 1393.608 | Std: 39.015\n",
      "Linear Regression | Mean RMSE: 694.097 | Std: 27.493\n",
      "Random Forest | Mean RMSE: 235.160 | Std: 12.546\n"
     ]
    }
   ],
   "source": [
    "from sklearn.pipeline import Pipeline\n",
    "from sklearn.compose import ColumnTransformer\n",
    "from sklearn.impute import SimpleImputer\n",
    "from sklearn.preprocessing import OneHotEncoder, StandardScaler\n",
    "from sklearn.linear_model import LinearRegression\n",
    "from sklearn.ensemble import RandomForestRegressor, GradientBoostingRegressor\n",
    "from sklearn.dummy import DummyRegressor\n",
    "from sklearn.model_selection import cross_val_score, KFold\n",
    "import numpy as np\n",
    "import pandas as pd\n",
    "\n",
    "# 1. Separate columns by dtype\n",
    "int_cols = X.select_dtypes(include='int').columns.tolist()\n",
    "float_cols = X.select_dtypes(include='float').columns.tolist()\n",
    "cat_cols = X.select_dtypes(include='object').columns.tolist()\n",
    "\n",
    "# 2. Define preprocessing for numeric and categorical data\n",
    "numeric_preprocessor = Pipeline(steps=[\n",
    "    ('imputer', SimpleImputer(strategy='mean')),\n",
    "    ('scaler', StandardScaler())\n",
    "])\n",
    "\n",
    "categorical_preprocessor = Pipeline(steps=[\n",
    "    ('imputer', SimpleImputer(strategy='most_frequent')),\n",
    "    ('onehot', OneHotEncoder(handle_unknown='ignore'))\n",
    "])\n",
    "\n",
    "# 3. Combine into one column transformer\n",
    "preprocessor = ColumnTransformer(transformers=[\n",
    "    ('num', numeric_preprocessor, int_cols + float_cols),\n",
    "    ('cat', categorical_preprocessor, cat_cols)\n",
    "])\n",
    "\n",
    "# 4. Define models\n",
    "models = {\n",
    "    \"Baseline (Mean)\": DummyRegressor(strategy='mean'),\n",
    "    \"Linear Regression\": Pipeline(steps=[\n",
    "        ('preprocessor', preprocessor),\n",
    "        ('regressor', LinearRegression())\n",
    "    ]),\n",
    "    \"Random Forest\": Pipeline(steps=[\n",
    "        ('preprocessor', preprocessor),\n",
    "        ('regressor', RandomForestRegressor(n_estimators=25, random_state=47, n_jobs=-1))\n",
    "    ])\n",
    "}\n",
    "\n",
    "# 5. Cross-validate and evaluate\n",
    "cv = KFold(n_splits=5, shuffle=True, random_state=47)\n",
    "\n",
    "for name, model in models.items():\n",
    "    scores = cross_val_score(model, X, y, cv=cv, scoring='neg_root_mean_squared_error', n_jobs=-1)\n",
    "    rmse_scores = -scores\n",
    "    print(f\"{name} | Mean RMSE: {rmse_scores.mean():.3f} | Std: {rmse_scores.std():.3f}\")"
   ]
  },
  {
   "cell_type": "code",
   "execution_count": 33,
   "id": "f99b7781-5406-42a8-8596-ff5a7db15d11",
   "metadata": {},
   "outputs": [
    {
     "data": {
      "text/html": [
       "<div>\n",
       "<style scoped>\n",
       "    .dataframe tbody tr th:only-of-type {\n",
       "        vertical-align: middle;\n",
       "    }\n",
       "\n",
       "    .dataframe tbody tr th {\n",
       "        vertical-align: top;\n",
       "    }\n",
       "\n",
       "    .dataframe thead th {\n",
       "        text-align: right;\n",
       "    }\n",
       "</style>\n",
       "<table border=\"1\" class=\"dataframe\">\n",
       "  <thead>\n",
       "    <tr style=\"text-align: right;\">\n",
       "      <th></th>\n",
       "      <th>_id</th>\n",
       "      <th>clever_id</th>\n",
       "      <th>stop_id</th>\n",
       "      <th>stop_name</th>\n",
       "      <th>direction</th>\n",
       "      <th>routes_ser</th>\n",
       "      <th>latitude</th>\n",
       "      <th>longitude</th>\n",
       "      <th>mode</th>\n",
       "      <th>shelter</th>\n",
       "      <th>stop_type</th>\n",
       "      <th>datekey</th>\n",
       "      <th>time_period</th>\n",
       "      <th>route_name</th>\n",
       "      <th>serviceday</th>\n",
       "      <th>total_ons</th>\n",
       "      <th>total_offs</th>\n",
       "      <th>days</th>\n",
       "      <th>avg_ons</th>\n",
       "      <th>avg_offs</th>\n",
       "    </tr>\n",
       "  </thead>\n",
       "  <tbody>\n",
       "    <tr>\n",
       "      <th>0</th>\n",
       "      <td>1</td>\n",
       "      <td>7858</td>\n",
       "      <td>E02110</td>\n",
       "      <td>5TH ST AT CAVIT AVE</td>\n",
       "      <td>Inbound</td>\n",
       "      <td>69, P69</td>\n",
       "      <td>40.3858</td>\n",
       "      <td>-79.76</td>\n",
       "      <td>Bus</td>\n",
       "      <td>No Shelter</td>\n",
       "      <td>Bus Stop</td>\n",
       "      <td>201909</td>\n",
       "      <td>Pre-pandemic</td>\n",
       "      <td>69</td>\n",
       "      <td>Sat</td>\n",
       "      <td>12.0</td>\n",
       "      <td>0.0</td>\n",
       "      <td>4</td>\n",
       "      <td>3.000000</td>\n",
       "      <td>0.00</td>\n",
       "    </tr>\n",
       "    <tr>\n",
       "      <th>1</th>\n",
       "      <td>2</td>\n",
       "      <td>7858</td>\n",
       "      <td>E02110</td>\n",
       "      <td>5TH ST AT CAVIT AVE</td>\n",
       "      <td>Inbound</td>\n",
       "      <td>69, P69</td>\n",
       "      <td>40.3858</td>\n",
       "      <td>-79.76</td>\n",
       "      <td>Bus</td>\n",
       "      <td>No Shelter</td>\n",
       "      <td>Bus Stop</td>\n",
       "      <td>201909</td>\n",
       "      <td>Pre-pandemic</td>\n",
       "      <td>69</td>\n",
       "      <td>Sun</td>\n",
       "      <td>14.0</td>\n",
       "      <td>0.0</td>\n",
       "      <td>6</td>\n",
       "      <td>2.333333</td>\n",
       "      <td>0.00</td>\n",
       "    </tr>\n",
       "    <tr>\n",
       "      <th>2</th>\n",
       "      <td>3</td>\n",
       "      <td>7858</td>\n",
       "      <td>E02110</td>\n",
       "      <td>5TH ST AT CAVIT AVE</td>\n",
       "      <td>Inbound</td>\n",
       "      <td>69, P69</td>\n",
       "      <td>40.3858</td>\n",
       "      <td>-79.76</td>\n",
       "      <td>Bus</td>\n",
       "      <td>No Shelter</td>\n",
       "      <td>Bus Stop</td>\n",
       "      <td>201909</td>\n",
       "      <td>Pre-pandemic</td>\n",
       "      <td>69</td>\n",
       "      <td>Weekday</td>\n",
       "      <td>64.0</td>\n",
       "      <td>1.0</td>\n",
       "      <td>20</td>\n",
       "      <td>3.200000</td>\n",
       "      <td>0.05</td>\n",
       "    </tr>\n",
       "    <tr>\n",
       "      <th>3</th>\n",
       "      <td>4</td>\n",
       "      <td>7858</td>\n",
       "      <td>E02110</td>\n",
       "      <td>5TH ST AT CAVIT AVE</td>\n",
       "      <td>Inbound</td>\n",
       "      <td>69, P69</td>\n",
       "      <td>40.3858</td>\n",
       "      <td>-79.76</td>\n",
       "      <td>Bus</td>\n",
       "      <td>No Shelter</td>\n",
       "      <td>Bus Stop</td>\n",
       "      <td>201909</td>\n",
       "      <td>Pre-pandemic</td>\n",
       "      <td>P69</td>\n",
       "      <td>Weekday</td>\n",
       "      <td>39.0</td>\n",
       "      <td>0.0</td>\n",
       "      <td>20</td>\n",
       "      <td>1.950000</td>\n",
       "      <td>0.00</td>\n",
       "    </tr>\n",
       "    <tr>\n",
       "      <th>4</th>\n",
       "      <td>5</td>\n",
       "      <td>7858</td>\n",
       "      <td>E02110</td>\n",
       "      <td>5TH ST AT CAVIT AVE</td>\n",
       "      <td>Inbound</td>\n",
       "      <td>69, P69</td>\n",
       "      <td>40.3858</td>\n",
       "      <td>-79.76</td>\n",
       "      <td>Bus</td>\n",
       "      <td>No Shelter</td>\n",
       "      <td>Bus Stop</td>\n",
       "      <td>202001</td>\n",
       "      <td>Pre-pandemic</td>\n",
       "      <td>69</td>\n",
       "      <td>Sat</td>\n",
       "      <td>11.0</td>\n",
       "      <td>0.0</td>\n",
       "      <td>4</td>\n",
       "      <td>2.750000</td>\n",
       "      <td>0.00</td>\n",
       "    </tr>\n",
       "  </tbody>\n",
       "</table>\n",
       "</div>"
      ],
      "text/plain": [
       "   _id  clever_id stop_id            stop_name direction routes_ser  latitude  \\\n",
       "0    1       7858  E02110  5TH ST AT CAVIT AVE   Inbound    69, P69   40.3858   \n",
       "1    2       7858  E02110  5TH ST AT CAVIT AVE   Inbound    69, P69   40.3858   \n",
       "2    3       7858  E02110  5TH ST AT CAVIT AVE   Inbound    69, P69   40.3858   \n",
       "3    4       7858  E02110  5TH ST AT CAVIT AVE   Inbound    69, P69   40.3858   \n",
       "4    5       7858  E02110  5TH ST AT CAVIT AVE   Inbound    69, P69   40.3858   \n",
       "\n",
       "   longitude mode     shelter stop_type  datekey   time_period route_name  \\\n",
       "0     -79.76  Bus  No Shelter  Bus Stop   201909  Pre-pandemic         69   \n",
       "1     -79.76  Bus  No Shelter  Bus Stop   201909  Pre-pandemic         69   \n",
       "2     -79.76  Bus  No Shelter  Bus Stop   201909  Pre-pandemic         69   \n",
       "3     -79.76  Bus  No Shelter  Bus Stop   201909  Pre-pandemic        P69   \n",
       "4     -79.76  Bus  No Shelter  Bus Stop   202001  Pre-pandemic         69   \n",
       "\n",
       "  serviceday  total_ons  total_offs  days   avg_ons  avg_offs  \n",
       "0        Sat       12.0         0.0     4  3.000000      0.00  \n",
       "1        Sun       14.0         0.0     6  2.333333      0.00  \n",
       "2    Weekday       64.0         1.0    20  3.200000      0.05  \n",
       "3    Weekday       39.0         0.0    20  1.950000      0.00  \n",
       "4        Sat       11.0         0.0     4  2.750000      0.00  "
      ]
     },
     "execution_count": 33,
     "metadata": {},
     "output_type": "execute_result"
    }
   ],
   "source": [
    "stop_usage.head()"
   ]
  },
  {
   "cell_type": "code",
   "execution_count": 34,
   "id": "c6aaecb7-a673-45a5-983c-c596f90f0dd8",
   "metadata": {},
   "outputs": [
    {
     "data": {
      "text/html": [
       "<div>\n",
       "<style scoped>\n",
       "    .dataframe tbody tr th:only-of-type {\n",
       "        vertical-align: middle;\n",
       "    }\n",
       "\n",
       "    .dataframe tbody tr th {\n",
       "        vertical-align: top;\n",
       "    }\n",
       "\n",
       "    .dataframe thead th {\n",
       "        text-align: right;\n",
       "    }\n",
       "</style>\n",
       "<table border=\"1\" class=\"dataframe\">\n",
       "  <thead>\n",
       "    <tr style=\"text-align: right;\">\n",
       "      <th></th>\n",
       "      <th>_id</th>\n",
       "      <th>clever_id</th>\n",
       "      <th>stop_id</th>\n",
       "      <th>stop_name</th>\n",
       "      <th>direction</th>\n",
       "      <th>routes_ser</th>\n",
       "      <th>latitude</th>\n",
       "      <th>longitude</th>\n",
       "      <th>mode</th>\n",
       "      <th>shelter</th>\n",
       "      <th>stop_type</th>\n",
       "      <th>datekey</th>\n",
       "      <th>time_period</th>\n",
       "      <th>route_name</th>\n",
       "      <th>serviceday</th>\n",
       "    </tr>\n",
       "  </thead>\n",
       "  <tbody>\n",
       "    <tr>\n",
       "      <th>0</th>\n",
       "      <td>1</td>\n",
       "      <td>7858</td>\n",
       "      <td>E02110</td>\n",
       "      <td>5TH ST AT CAVIT AVE</td>\n",
       "      <td>Inbound</td>\n",
       "      <td>69, P69</td>\n",
       "      <td>40.3858</td>\n",
       "      <td>-79.76</td>\n",
       "      <td>Bus</td>\n",
       "      <td>No Shelter</td>\n",
       "      <td>Bus Stop</td>\n",
       "      <td>201909</td>\n",
       "      <td>Pre-pandemic</td>\n",
       "      <td>69</td>\n",
       "      <td>Sat</td>\n",
       "    </tr>\n",
       "    <tr>\n",
       "      <th>1</th>\n",
       "      <td>2</td>\n",
       "      <td>7858</td>\n",
       "      <td>E02110</td>\n",
       "      <td>5TH ST AT CAVIT AVE</td>\n",
       "      <td>Inbound</td>\n",
       "      <td>69, P69</td>\n",
       "      <td>40.3858</td>\n",
       "      <td>-79.76</td>\n",
       "      <td>Bus</td>\n",
       "      <td>No Shelter</td>\n",
       "      <td>Bus Stop</td>\n",
       "      <td>201909</td>\n",
       "      <td>Pre-pandemic</td>\n",
       "      <td>69</td>\n",
       "      <td>Sun</td>\n",
       "    </tr>\n",
       "    <tr>\n",
       "      <th>2</th>\n",
       "      <td>3</td>\n",
       "      <td>7858</td>\n",
       "      <td>E02110</td>\n",
       "      <td>5TH ST AT CAVIT AVE</td>\n",
       "      <td>Inbound</td>\n",
       "      <td>69, P69</td>\n",
       "      <td>40.3858</td>\n",
       "      <td>-79.76</td>\n",
       "      <td>Bus</td>\n",
       "      <td>No Shelter</td>\n",
       "      <td>Bus Stop</td>\n",
       "      <td>201909</td>\n",
       "      <td>Pre-pandemic</td>\n",
       "      <td>69</td>\n",
       "      <td>Weekday</td>\n",
       "    </tr>\n",
       "    <tr>\n",
       "      <th>3</th>\n",
       "      <td>4</td>\n",
       "      <td>7858</td>\n",
       "      <td>E02110</td>\n",
       "      <td>5TH ST AT CAVIT AVE</td>\n",
       "      <td>Inbound</td>\n",
       "      <td>69, P69</td>\n",
       "      <td>40.3858</td>\n",
       "      <td>-79.76</td>\n",
       "      <td>Bus</td>\n",
       "      <td>No Shelter</td>\n",
       "      <td>Bus Stop</td>\n",
       "      <td>201909</td>\n",
       "      <td>Pre-pandemic</td>\n",
       "      <td>P69</td>\n",
       "      <td>Weekday</td>\n",
       "    </tr>\n",
       "    <tr>\n",
       "      <th>4</th>\n",
       "      <td>5</td>\n",
       "      <td>7858</td>\n",
       "      <td>E02110</td>\n",
       "      <td>5TH ST AT CAVIT AVE</td>\n",
       "      <td>Inbound</td>\n",
       "      <td>69, P69</td>\n",
       "      <td>40.3858</td>\n",
       "      <td>-79.76</td>\n",
       "      <td>Bus</td>\n",
       "      <td>No Shelter</td>\n",
       "      <td>Bus Stop</td>\n",
       "      <td>202001</td>\n",
       "      <td>Pre-pandemic</td>\n",
       "      <td>69</td>\n",
       "      <td>Sat</td>\n",
       "    </tr>\n",
       "  </tbody>\n",
       "</table>\n",
       "</div>"
      ],
      "text/plain": [
       "   _id  clever_id stop_id            stop_name direction routes_ser  latitude  \\\n",
       "0    1       7858  E02110  5TH ST AT CAVIT AVE   Inbound    69, P69   40.3858   \n",
       "1    2       7858  E02110  5TH ST AT CAVIT AVE   Inbound    69, P69   40.3858   \n",
       "2    3       7858  E02110  5TH ST AT CAVIT AVE   Inbound    69, P69   40.3858   \n",
       "3    4       7858  E02110  5TH ST AT CAVIT AVE   Inbound    69, P69   40.3858   \n",
       "4    5       7858  E02110  5TH ST AT CAVIT AVE   Inbound    69, P69   40.3858   \n",
       "\n",
       "   longitude mode     shelter stop_type  datekey   time_period route_name  \\\n",
       "0     -79.76  Bus  No Shelter  Bus Stop   201909  Pre-pandemic         69   \n",
       "1     -79.76  Bus  No Shelter  Bus Stop   201909  Pre-pandemic         69   \n",
       "2     -79.76  Bus  No Shelter  Bus Stop   201909  Pre-pandemic         69   \n",
       "3     -79.76  Bus  No Shelter  Bus Stop   201909  Pre-pandemic        P69   \n",
       "4     -79.76  Bus  No Shelter  Bus Stop   202001  Pre-pandemic         69   \n",
       "\n",
       "  serviceday  \n",
       "0        Sat  \n",
       "1        Sun  \n",
       "2    Weekday  \n",
       "3    Weekday  \n",
       "4        Sat  "
      ]
     },
     "execution_count": 34,
     "metadata": {},
     "output_type": "execute_result"
    }
   ],
   "source": [
    "X = stop_usage.iloc[:,:-5]\n",
    "X.head()"
   ]
  },
  {
   "cell_type": "code",
   "execution_count": 35,
   "id": "e8185384-a095-44be-a555-58bf4310c116",
   "metadata": {},
   "outputs": [],
   "source": [
    "y = stop_usage.iloc[:,-5:]"
   ]
  },
  {
   "cell_type": "code",
   "execution_count": 36,
   "id": "222eb4b5-f44f-4946-afe6-3e32e6b8553b",
   "metadata": {},
   "outputs": [
    {
     "data": {
      "text/html": [
       "<div>\n",
       "<style scoped>\n",
       "    .dataframe tbody tr th:only-of-type {\n",
       "        vertical-align: middle;\n",
       "    }\n",
       "\n",
       "    .dataframe tbody tr th {\n",
       "        vertical-align: top;\n",
       "    }\n",
       "\n",
       "    .dataframe thead th {\n",
       "        text-align: right;\n",
       "    }\n",
       "</style>\n",
       "<table border=\"1\" class=\"dataframe\">\n",
       "  <thead>\n",
       "    <tr style=\"text-align: right;\">\n",
       "      <th></th>\n",
       "      <th>total_ons</th>\n",
       "      <th>total_offs</th>\n",
       "      <th>days</th>\n",
       "      <th>avg_ons</th>\n",
       "      <th>avg_offs</th>\n",
       "    </tr>\n",
       "  </thead>\n",
       "  <tbody>\n",
       "    <tr>\n",
       "      <th>0</th>\n",
       "      <td>12.0</td>\n",
       "      <td>0.0</td>\n",
       "      <td>4</td>\n",
       "      <td>3.000000</td>\n",
       "      <td>0.00</td>\n",
       "    </tr>\n",
       "    <tr>\n",
       "      <th>1</th>\n",
       "      <td>14.0</td>\n",
       "      <td>0.0</td>\n",
       "      <td>6</td>\n",
       "      <td>2.333333</td>\n",
       "      <td>0.00</td>\n",
       "    </tr>\n",
       "    <tr>\n",
       "      <th>2</th>\n",
       "      <td>64.0</td>\n",
       "      <td>1.0</td>\n",
       "      <td>20</td>\n",
       "      <td>3.200000</td>\n",
       "      <td>0.05</td>\n",
       "    </tr>\n",
       "    <tr>\n",
       "      <th>3</th>\n",
       "      <td>39.0</td>\n",
       "      <td>0.0</td>\n",
       "      <td>20</td>\n",
       "      <td>1.950000</td>\n",
       "      <td>0.00</td>\n",
       "    </tr>\n",
       "    <tr>\n",
       "      <th>4</th>\n",
       "      <td>11.0</td>\n",
       "      <td>0.0</td>\n",
       "      <td>4</td>\n",
       "      <td>2.750000</td>\n",
       "      <td>0.00</td>\n",
       "    </tr>\n",
       "  </tbody>\n",
       "</table>\n",
       "</div>"
      ],
      "text/plain": [
       "   total_ons  total_offs  days   avg_ons  avg_offs\n",
       "0       12.0         0.0     4  3.000000      0.00\n",
       "1       14.0         0.0     6  2.333333      0.00\n",
       "2       64.0         1.0    20  3.200000      0.05\n",
       "3       39.0         0.0    20  1.950000      0.00\n",
       "4       11.0         0.0     4  2.750000      0.00"
      ]
     },
     "execution_count": 36,
     "metadata": {},
     "output_type": "execute_result"
    }
   ],
   "source": [
    "y.head()"
   ]
  },
  {
   "cell_type": "code",
   "execution_count": 37,
   "id": "bde7cc78-d016-4575-a902-cb55a56fbe79",
   "metadata": {},
   "outputs": [
    {
     "data": {
      "text/plain": [
       "0    12.0\n",
       "1    14.0\n",
       "2    64.0\n",
       "3    39.0\n",
       "4    11.0\n",
       "Name: total_ons, dtype: float64"
      ]
     },
     "execution_count": 37,
     "metadata": {},
     "output_type": "execute_result"
    }
   ],
   "source": [
    "y = y.iloc[:,0]\n",
    "y.head()"
   ]
  },
  {
   "cell_type": "code",
   "execution_count": 38,
   "id": "6c2f9590-b691-4f6e-b518-a33c4af9b1ed",
   "metadata": {},
   "outputs": [
    {
     "data": {
      "text/plain": [
       "206"
      ]
     },
     "execution_count": 38,
     "metadata": {},
     "output_type": "execute_result"
    }
   ],
   "source": [
    "y.isna().sum()"
   ]
  },
  {
   "cell_type": "code",
   "execution_count": 39,
   "id": "0dc43de0-8cd0-40b7-859c-61eac8f92578",
   "metadata": {},
   "outputs": [
    {
     "data": {
      "text/plain": [
       "((107611, 15), (107611,))"
      ]
     },
     "execution_count": 39,
     "metadata": {},
     "output_type": "execute_result"
    }
   ],
   "source": [
    "X.shape, y.shape"
   ]
  },
  {
   "cell_type": "code",
   "execution_count": 40,
   "id": "275d955d-a284-4a9b-9c40-19d8ac1bdb43",
   "metadata": {},
   "outputs": [],
   "source": [
    "X = X[~y.isna()]\n",
    "y = y[~y.isna()]"
   ]
  },
  {
   "cell_type": "code",
   "execution_count": 41,
   "id": "49860afe-821f-421e-b4bc-80f557cb0831",
   "metadata": {},
   "outputs": [],
   "source": [
    "#X.nunique(axis=0)"
   ]
  },
  {
   "cell_type": "code",
   "execution_count": null,
   "id": "b0fa0ecd-86f6-4e03-8519-f123a779370f",
   "metadata": {},
   "outputs": [],
   "source": []
  },
  {
   "cell_type": "code",
   "execution_count": null,
   "id": "807a338c-dcc6-4c2d-b9b6-a1cdc8553c04",
   "metadata": {},
   "outputs": [],
   "source": []
  },
  {
   "cell_type": "code",
   "execution_count": 42,
   "id": "fe644c67-2ec0-416c-8c26-7ea836e5977f",
   "metadata": {},
   "outputs": [],
   "source": [
    "#X.nunique()/len(X)*100"
   ]
  },
  {
   "cell_type": "code",
   "execution_count": 43,
   "id": "de6d4e41-0b06-4b9c-9049-6e6940de4ca3",
   "metadata": {},
   "outputs": [],
   "source": [
    "#sparse_columns = list(X.columns[X.nunique()/len(X)*100 < 0.01])\n",
    "#X = X.drop(sparse_columns, axis=1)"
   ]
  },
  {
   "cell_type": "code",
   "execution_count": 44,
   "id": "7f4910e1-13a3-4066-bd81-f551a804e3dc",
   "metadata": {},
   "outputs": [],
   "source": [
    "# random forest performed way worse here without the sparse columns"
   ]
  },
  {
   "cell_type": "code",
   "execution_count": null,
   "id": "967d56fc-a9db-4886-8284-ad594587f99f",
   "metadata": {},
   "outputs": [],
   "source": []
  },
  {
   "cell_type": "code",
   "execution_count": 45,
   "id": "4dbac923-57b0-4606-88dc-b127fd559bbf",
   "metadata": {},
   "outputs": [
    {
     "name": "stdout",
     "output_type": "stream",
     "text": [
      "Baseline (Mean) | Mean RMSE: 378.270 | Std: 54.625\n",
      "Linear Regression | Mean RMSE: 321.806 | Std: 52.104\n",
      "Random Forest | Mean RMSE: 189.339 | Std: 42.926\n"
     ]
    }
   ],
   "source": [
    "# 1. Separate columns by dtype\n",
    "int_cols = X.select_dtypes(include='int').columns.tolist()\n",
    "float_cols = X.select_dtypes(include='float').columns.tolist()\n",
    "cat_cols = X.select_dtypes(include='object').columns.tolist()\n",
    "\n",
    "# 2. Define preprocessing for numeric and categorical data\n",
    "numeric_preprocessor = Pipeline(steps=[\n",
    "    ('imputer', SimpleImputer(strategy='mean')),\n",
    "    ('scaler', StandardScaler())\n",
    "])\n",
    "\n",
    "categorical_preprocessor = Pipeline(steps=[\n",
    "    ('imputer', SimpleImputer(strategy='most_frequent')),\n",
    "    ('onehot', OneHotEncoder(handle_unknown='ignore'))\n",
    "])\n",
    "\n",
    "# 3. Combine into one column transformer\n",
    "preprocessor = ColumnTransformer(transformers=[\n",
    "    ('num', numeric_preprocessor, int_cols + float_cols),\n",
    "    ('cat', categorical_preprocessor, cat_cols)\n",
    "])\n",
    "\n",
    "# 4. Define models\n",
    "models = {\n",
    "    \"Baseline (Mean)\": DummyRegressor(strategy='mean'),\n",
    "    \"Linear Regression\": Pipeline(steps=[\n",
    "        ('preprocessor', preprocessor),\n",
    "        ('regressor', LinearRegression())\n",
    "    ]),\n",
    "    \"Random Forest\": Pipeline(steps=[\n",
    "        ('preprocessor', preprocessor),\n",
    "        ('regressor', RandomForestRegressor(n_estimators=10, random_state=47, n_jobs=-1))\n",
    "    ])\n",
    "}\n",
    "\n",
    "# 5. Cross-validate and evaluate\n",
    "cv = KFold(n_splits=5, shuffle=True, random_state=47)\n",
    "\n",
    "for name, model in models.items():\n",
    "    scores = cross_val_score(model, X, y, cv=cv, scoring='neg_root_mean_squared_error', n_jobs=-1)\n",
    "    rmse_scores = -scores\n",
    "    print(f\"{name} | Mean RMSE: {rmse_scores.mean():.3f} | Std: {rmse_scores.std():.3f}\")"
   ]
  },
  {
   "cell_type": "code",
   "execution_count": 46,
   "id": "0c395b15-8f97-4e06-9c8d-5821a8ffe2fc",
   "metadata": {},
   "outputs": [],
   "source": [
    "def count_outliers_iqr(df, cols=None, multiplier=1.5):\n",
    "    \"\"\"\n",
    "    Count the number of outliers in each numeric column using the IQR method.\n",
    "\n",
    "    Parameters:\n",
    "    - df: pandas DataFrame\n",
    "    - cols: list of columns to check (default: all numeric)\n",
    "    - multiplier: controls sensitivity (1.5 is standard)\n",
    "\n",
    "    Returns:\n",
    "    - pandas Series with outlier counts per column\n",
    "    \"\"\"\n",
    "    if cols is None:\n",
    "        cols = df.select_dtypes(include=['int', 'float']).columns\n",
    "\n",
    "    outlier_counts = {}\n",
    "\n",
    "    for col in cols:\n",
    "        Q1 = df[col].quantile(0.25)\n",
    "        Q3 = df[col].quantile(0.75)\n",
    "        IQR = Q3 - Q1\n",
    "        lower = Q1 - multiplier * IQR\n",
    "        upper = Q3 + multiplier * IQR\n",
    "        outliers = df[(df[col] < lower) | (df[col] > upper)]\n",
    "        outlier_counts[col] = len(outliers)\n",
    "\n",
    "    return pd.Series(outlier_counts).sort_values(ascending=False)"
   ]
  },
  {
   "cell_type": "code",
   "execution_count": 47,
   "id": "a6f28a52-1bfd-4bb9-b5f2-670251c0fafb",
   "metadata": {},
   "outputs": [
    {
     "data": {
      "text/plain": [
       "latitude     8338\n",
       "longitude    2187\n",
       "clever_id     907\n",
       "_id             0\n",
       "datekey         0\n",
       "dtype: int64"
      ]
     },
     "execution_count": 47,
     "metadata": {},
     "output_type": "execute_result"
    }
   ],
   "source": [
    "count_outliers_iqr(X)"
   ]
  },
  {
   "cell_type": "code",
   "execution_count": 48,
   "id": "85668a5b-921a-408e-96f9-66b07c2e86f7",
   "metadata": {},
   "outputs": [
    {
     "data": {
      "text/plain": [
       "total_precip    475\n",
       "_id               0\n",
       "year_month        0\n",
       "day_count         0\n",
       "avg_temp          0\n",
       "dtype: int64"
      ]
     },
     "execution_count": 48,
     "metadata": {},
     "output_type": "execute_result"
    }
   ],
   "source": [
    "X = ridership.drop(['avg_riders', 'route_full_name'], axis=1)\n",
    "count_outliers_iqr(X)"
   ]
  },
  {
   "cell_type": "code",
   "execution_count": null,
   "id": "fe015049-e284-4457-baf2-84e7b1b3d84a",
   "metadata": {},
   "outputs": [],
   "source": []
  }
 ],
 "metadata": {
  "kernelspec": {
   "display_name": "Python 3 (base)",
   "language": "python",
   "name": "base"
  },
  "language_info": {
   "codemirror_mode": {
    "name": "ipython",
    "version": 3
   },
   "file_extension": ".py",
   "mimetype": "text/x-python",
   "name": "python",
   "nbconvert_exporter": "python",
   "pygments_lexer": "ipython3",
   "version": "3.12.8"
  }
 },
 "nbformat": 4,
 "nbformat_minor": 5
}
